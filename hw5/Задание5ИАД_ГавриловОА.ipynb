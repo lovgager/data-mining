{
 "cells": [
  {
   "cell_type": "code",
   "execution_count": 1,
   "metadata": {},
   "outputs": [],
   "source": [
    "import numpy as np\n",
    "import pandas as pd\n",
    "import matplotlib.pyplot as plt\n",
    "from sklearn import metrics\n",
    "from sklearn.metrics import roc_auc_score\n",
    "from sklearn.metrics import make_scorer\n",
    "from sklearn.preprocessing import PowerTransformer\n",
    "from sklearn.model_selection import train_test_split\n",
    "from sklearn.model_selection import GridSearchCV\n",
    "from sklearn.svm import LinearSVR\n",
    "from sklearn.impute import SimpleImputer"
   ]
  },
  {
   "cell_type": "code",
   "execution_count": 2,
   "metadata": {},
   "outputs": [],
   "source": [
    "# Эта функция скопирована из задания 4\n",
    "def plot_roc_curve(y_true, y_pred):\n",
    "    fpr, tpr, threshold = metrics.roc_curve(y_true, y_pred)\n",
    "    roc_auc = metrics.auc(fpr, tpr)\n",
    "    plt.title('Receiver Operating Characteristic')\n",
    "    plt.plot(fpr, tpr, 'b', label = 'AUC = %0.3f' % roc_auc)\n",
    "    plt.legend(loc = 'lower right')\n",
    "    plt.plot([0, 1], [1, 0], 'r--')\n",
    "    plt.xlim([0, 1])\n",
    "    plt.ylim([0, 1])\n",
    "    plt.ylabel('True Positive Rate')\n",
    "    plt.xlabel('False Positive Rate')\n",
    "    plt.show()"
   ]
  },
  {
   "cell_type": "code",
   "execution_count": 3,
   "metadata": {},
   "outputs": [],
   "source": [
    "# Предобработка данных (и тренировочных, и тестовых)\n",
    "\n",
    "df_train = pd.read_csv('TrainSample.csv')\n",
    "df_test = pd.read_csv('TestSample.csv')\n",
    "\n",
    "target = 'INS'\n",
    "nominal_features = ['BRANCH', 'id', 'PHONE', 'RES']\n",
    "binary_features = ['ATM', 'CC', 'CD', 'DDA', 'DIRDEP', 'HMOWN', 'ILS', 'INAREA', 'INV', \n",
    "                   'IRA', 'LOC', 'MM', 'MOVED', 'MTG', 'NSF', 'SAV', 'SDB']\n",
    "interval_features = list(set(df_train.columns) - {target} - \n",
    "                         set(nominal_features) - set(binary_features))\n",
    "\n",
    "# Удаляем номинальные переменные, так как с ними сложно работать\n",
    "df_train.drop(columns=nominal_features, inplace=True)\n",
    "df_test.drop(columns=nominal_features, inplace=True)\n",
    "\n",
    "y_train = df_train[target]\n",
    "y_test = df_test[target]\n",
    "X_train = df_train.loc[:, sorted(list(set(df_train.columns) - {target}))]\n",
    "X_test = df_test.loc[:, sorted(list(set(df_test.columns) - {target}))]"
   ]
  },
  {
   "cell_type": "code",
   "execution_count": 4,
   "metadata": {},
   "outputs": [],
   "source": [
    "# Заполняем пропущенные значения (NaN) самыми частыми значениями в колонке\n",
    "imp = SimpleImputer(missing_values=np.nan, strategy='most_frequent')\n",
    "X_train = pd.DataFrame(imp.fit_transform(X_train), columns=X_train.columns)\n",
    "X_test = pd.DataFrame(imp.fit_transform(X_test), columns=X_test.columns)"
   ]
  },
  {
   "cell_type": "code",
   "execution_count": 5,
   "metadata": {},
   "outputs": [],
   "source": [
    "# Преобразуем данные, чтобы распределения интервальных переменных стали ближе к нормальным\n",
    "pt = PowerTransformer()\n",
    "X_train[interval_features] = pt.fit_transform(X_train[interval_features])\n",
    "X_test[interval_features] = pt.transform(X_test[interval_features])"
   ]
  },
  {
   "cell_type": "code",
   "execution_count": 6,
   "metadata": {},
   "outputs": [],
   "source": [
    "# Делим тренировочную выборку ещё на две, чтобы проверять качество алгоритма\n",
    "X_train, X_val, y_train, y_val = train_test_split(X_train, y_train, test_size=0.3, random_state=1)"
   ]
  },
  {
   "cell_type": "code",
   "execution_count": 7,
   "metadata": {},
   "outputs": [],
   "source": [
    "# Эксперименты показали, что модели регрессии дают более лучшие результаты, \n",
    "# несмотря на то что наша задача является задачей бинарной классификации"
   ]
  },
  {
   "cell_type": "code",
   "execution_count": 8,
   "metadata": {
    "scrolled": true
   },
   "outputs": [],
   "source": [
    "# Рассмотрим модель Linear Support Vector Regression\n",
    "# Подбираем оптимальное значение epsilon в смысле максимизации roc_auc_score\n",
    "params = {'epsilon': np.arange(0, 0.6, 0.1),\n",
    "          'max_iter': [5000],\n",
    "          'tol': [1e-2],\n",
    "          'random_state': [1]}\n",
    "model = GridSearchCV(LinearSVR(), params, scoring=make_scorer(roc_auc_score)).fit(X_train, y_train)"
   ]
  },
  {
   "cell_type": "code",
   "execution_count": 9,
   "metadata": {},
   "outputs": [
    {
     "data": {
      "text/plain": [
       "0.7819000386901622"
      ]
     },
     "execution_count": 9,
     "metadata": {},
     "output_type": "execute_result"
    }
   ],
   "source": [
    "# На валидационном наборе значение ROC AUC хорошее (больше 0.777)\n",
    "roc_auc_score(y_val, model.predict(X_val))"
   ]
  },
  {
   "cell_type": "code",
   "execution_count": 10,
   "metadata": {},
   "outputs": [
    {
     "data": {
      "text/plain": [
       "0.7782596884617801"
      ]
     },
     "execution_count": 10,
     "metadata": {},
     "output_type": "execute_result"
    }
   ],
   "source": [
    "# На тестовом наборе тоже хорошее значение\n",
    "# Заметим, что тестовый набор не использовался в обучении - только в предобработке\n",
    "roc_auc_score(y_test, model.predict(X_test))"
   ]
  },
  {
   "cell_type": "code",
   "execution_count": 11,
   "metadata": {
    "scrolled": true
   },
   "outputs": [
    {
     "data": {
      "image/png": "[encoded data removed]",
      "text/plain": [
       "<Figure size 432x288 with 1 Axes>"
      ]
     },
     "metadata": {
      "needs_background": "light"
     },
     "output_type": "display_data"
    }
   ],
   "source": [
    "plot_roc_curve(y_test, model.predict(X_test))"
   ]
  }
 ],
 "metadata": {
  "kernelspec": {
   "display_name": "Python 3",
   "language": "python",
   "name": "python3"
  },
  "language_info": {
   "codemirror_mode": {
    "name": "ipython",
    "version": 3
   },
   "file_extension": ".py",
   "mimetype": "text/x-python",
   "name": "python",
   "nbconvert_exporter": "python",
   "pygments_lexer": "ipython3",
   "version": "3.7.6"
  }
 },
 "nbformat": 4,
 "nbformat_minor": 4
}
