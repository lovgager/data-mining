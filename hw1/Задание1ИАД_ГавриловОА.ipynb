{
 "cells": [
  {
   "cell_type": "markdown",
   "metadata": {
    "id": "4jCfyPMQ7LEO"
   },
   "source": [
    "### Импортируем библиотеки"
   ]
  },
  {
   "cell_type": "code",
   "execution_count": 1,
   "metadata": {
    "id": "-uDYY820sBEn"
   },
   "outputs": [],
   "source": [
    "# Импорт библиотек для проведения расчетов\n",
    "import pandas as pd\n",
    "import numpy as np"
   ]
  },
  {
   "cell_type": "code",
   "execution_count": 2,
   "metadata": {
    "id": "ITxzNoPPetjm"
   },
   "outputs": [],
   "source": [
    "# Импорт библиотек для построения и визуализации графов\n",
    "import networkx as nx\n",
    "import matplotlib.pyplot as plt"
   ]
  },
  {
   "cell_type": "code",
   "execution_count": 3,
   "metadata": {
    "id": "8SsA0N0A7Afp"
   },
   "outputs": [],
   "source": [
    "# Библиотека для построения ассоциативных правил: mlxtend\n",
    "# Документация библиотеки: http://rasbt.github.io/mlxtend/\n",
    "\n",
    "# Для установки библиотеки требуется раскомментировать строку 5\n",
    "# ! python3.7 -m pip install --upgrade mlxtend"
   ]
  },
  {
   "cell_type": "code",
   "execution_count": 4,
   "metadata": {
    "id": "zFAZugvt8CpW"
   },
   "outputs": [],
   "source": [
    "# Импорт пакетов для выполнения ассоциативных правил\n",
    "from mlxtend.preprocessing import TransactionEncoder\n",
    "from mlxtend.frequent_patterns import apriori\n",
    "from mlxtend.frequent_patterns import association_rules\n",
    "from mlxtend.frequent_patterns import fpgrowth\n",
    "from mlxtend.frequent_patterns import fpmax"
   ]
  },
  {
   "cell_type": "markdown",
   "metadata": {
    "id": "bmNZqCwT8N0e"
   },
   "source": [
    "### Загрузка данных"
   ]
  },
  {
   "cell_type": "code",
   "execution_count": 10,
   "metadata": {
    "id": "geKTsA6Ot2Ai"
   },
   "outputs": [],
   "source": [
    "# Указываем путь к файлу\n",
    "# При работе с google colab существует 2 варианта загрузки файла:\n",
    "# 1. Через google drive\n",
    "# 2. Через левое меню: \"файлы\" -> \"загрузить в сессионное хранилище\" -> \"скопировать файл\" (при наведении на файл)\n",
    "file_path = 'C:/Users/Oleg/Downloads/Telegram Desktop/assoc.sas7bdat'"
   ]
  },
  {
   "cell_type": "code",
   "execution_count": 11,
   "metadata": {
    "colab": {
     "base_uri": "https://localhost:8080/",
     "height": 206
    },
    "id": "bEaOP14S8eSG",
    "outputId": "290bc7ae-ec1b-411c-f1f3-08133cbf68d2"
   },
   "outputs": [
    {
     "data": {
      "text/html": [
       "<div>\n",
       "<style scoped>\n",
       "    .dataframe tbody tr th:only-of-type {\n",
       "        vertical-align: middle;\n",
       "    }\n",
       "\n",
       "    .dataframe tbody tr th {\n",
       "        vertical-align: top;\n",
       "    }\n",
       "\n",
       "    .dataframe thead th {\n",
       "        text-align: right;\n",
       "    }\n",
       "</style>\n",
       "<table border=\"1\" class=\"dataframe\">\n",
       "  <thead>\n",
       "    <tr style=\"text-align: right;\">\n",
       "      <th></th>\n",
       "      <th>CUSTOMER</th>\n",
       "      <th>TIME</th>\n",
       "      <th>PRODUCT</th>\n",
       "    </tr>\n",
       "  </thead>\n",
       "  <tbody>\n",
       "    <tr>\n",
       "      <th>0</th>\n",
       "      <td>0.0</td>\n",
       "      <td>0.0</td>\n",
       "      <td>hering</td>\n",
       "    </tr>\n",
       "    <tr>\n",
       "      <th>1</th>\n",
       "      <td>0.0</td>\n",
       "      <td>1.0</td>\n",
       "      <td>corned_b</td>\n",
       "    </tr>\n",
       "    <tr>\n",
       "      <th>2</th>\n",
       "      <td>0.0</td>\n",
       "      <td>2.0</td>\n",
       "      <td>olives</td>\n",
       "    </tr>\n",
       "    <tr>\n",
       "      <th>3</th>\n",
       "      <td>0.0</td>\n",
       "      <td>3.0</td>\n",
       "      <td>ham</td>\n",
       "    </tr>\n",
       "    <tr>\n",
       "      <th>4</th>\n",
       "      <td>0.0</td>\n",
       "      <td>4.0</td>\n",
       "      <td>turkey</td>\n",
       "    </tr>\n",
       "  </tbody>\n",
       "</table>\n",
       "</div>"
      ],
      "text/plain": [
       "   CUSTOMER  TIME   PRODUCT\n",
       "0       0.0   0.0    hering\n",
       "1       0.0   1.0  corned_b\n",
       "2       0.0   2.0    olives\n",
       "3       0.0   3.0       ham\n",
       "4       0.0   4.0    turkey"
      ]
     },
     "execution_count": 11,
     "metadata": {},
     "output_type": "execute_result"
    }
   ],
   "source": [
    "# Загружаем данные из SAS файла\n",
    "df = pd.read_sas(file_path, encoding='latin-1')\n",
    "# Пример данных\n",
    "df.head()"
   ]
  },
  {
   "cell_type": "markdown",
   "metadata": {
    "id": "yby7hTec-RBD"
   },
   "source": [
    "### Часть 1: Построение моделей ассоциативных правил"
   ]
  },
  {
   "cell_type": "code",
   "execution_count": 12,
   "metadata": {
    "id": "YbKe5OmVNQzK"
   },
   "outputs": [],
   "source": [
    "# Создадим список транзакций в формате [[1,4,5], [3,5,3], ....]\n",
    "# Каждый элемент списка - список того, что купил клиент\n",
    "transactions = df.groupby('CUSTOMER').aggregate({\"PRODUCT\":list}).values[:, 0]"
   ]
  },
  {
   "cell_type": "code",
   "execution_count": 9,
   "metadata": {
    "colab": {
     "base_uri": "https://localhost:8080/"
    },
    "id": "l4v9AAwo3QSz",
    "outputId": "20b9b4de-e362-4d18-8f50-2636ffcf0945"
   },
   "outputs": [
    {
     "data": {
      "text/plain": [
       "['hering', 'corned_b', 'olives', 'ham', 'turkey', 'bourbon', 'ice_crea']"
      ]
     },
     "execution_count": 9,
     "metadata": {},
     "output_type": "execute_result"
    }
   ],
   "source": [
    "# Список покупок для первого клиента\n",
    "transactions[0]"
   ]
  },
  {
   "cell_type": "code",
   "execution_count": 26,
   "metadata": {
    "id": "Q92hp7q9767m"
   },
   "outputs": [],
   "source": [
    "# Построим модель apriori или fpgrowth (указывается в качестве параметра mode)\n",
    "def get_frequent_items(transac, model = \"apriori\"):\n",
    "    te = TransactionEncoder()\n",
    "    te_ary = te.fit(transac).transform(transac)\n",
    "    df = pd.DataFrame(te_ary, columns=te.columns_)\n",
    "    if model == \"apriori\":\n",
    "        return apriori(df, min_support=0.1, use_colnames=True)\n",
    "    elif model == \"fpgrowth\":\n",
    "        return fpgrowth(df, min_support=0.1, use_colnames=True)\n",
    "    return None\n",
    "\n",
    "frequent_itemsets = get_frequent_items(transactions, model = \"apriori\")"
   ]
  },
  {
   "cell_type": "code",
   "execution_count": 27,
   "metadata": {
    "colab": {
     "base_uri": "https://localhost:8080/",
     "height": 206
    },
    "id": "UkLrxM5y8BVM",
    "outputId": "486f478e-2bf7-46c7-d4cb-5e15f2ee7d62"
   },
   "outputs": [
    {
     "data": {
      "text/html": [
       "<div>\n",
       "<style scoped>\n",
       "    .dataframe tbody tr th:only-of-type {\n",
       "        vertical-align: middle;\n",
       "    }\n",
       "\n",
       "    .dataframe tbody tr th {\n",
       "        vertical-align: top;\n",
       "    }\n",
       "\n",
       "    .dataframe thead th {\n",
       "        text-align: right;\n",
       "    }\n",
       "</style>\n",
       "<table border=\"1\" class=\"dataframe\">\n",
       "  <thead>\n",
       "    <tr style=\"text-align: right;\">\n",
       "      <th></th>\n",
       "      <th>support</th>\n",
       "      <th>itemsets</th>\n",
       "    </tr>\n",
       "  </thead>\n",
       "  <tbody>\n",
       "    <tr>\n",
       "      <th>0</th>\n",
       "      <td>0.313686</td>\n",
       "      <td>(apples)</td>\n",
       "    </tr>\n",
       "    <tr>\n",
       "      <th>1</th>\n",
       "      <td>0.304695</td>\n",
       "      <td>(artichok)</td>\n",
       "    </tr>\n",
       "    <tr>\n",
       "      <th>2</th>\n",
       "      <td>0.362637</td>\n",
       "      <td>(avocado)</td>\n",
       "    </tr>\n",
       "    <tr>\n",
       "      <th>3</th>\n",
       "      <td>0.391608</td>\n",
       "      <td>(baguette)</td>\n",
       "    </tr>\n",
       "    <tr>\n",
       "      <th>4</th>\n",
       "      <td>0.402597</td>\n",
       "      <td>(bourbon)</td>\n",
       "    </tr>\n",
       "  </tbody>\n",
       "</table>\n",
       "</div>"
      ],
      "text/plain": [
       "    support    itemsets\n",
       "0  0.313686    (apples)\n",
       "1  0.304695  (artichok)\n",
       "2  0.362637   (avocado)\n",
       "3  0.391608  (baguette)\n",
       "4  0.402597   (bourbon)"
      ]
     },
     "execution_count": 27,
     "metadata": {},
     "output_type": "execute_result"
    }
   ],
   "source": [
    "frequent_itemsets.head()"
   ]
  },
  {
   "cell_type": "code",
   "execution_count": 28,
   "metadata": {
    "colab": {
     "base_uri": "https://localhost:8080/",
     "height": 206
    },
    "id": "9xIqT6qm8HQy",
    "outputId": "09645c53-4c3c-49ba-8506-d1706c75a008",
    "scrolled": true
   },
   "outputs": [
    {
     "data": {
      "text/html": [
       "<div>\n",
       "<style scoped>\n",
       "    .dataframe tbody tr th:only-of-type {\n",
       "        vertical-align: middle;\n",
       "    }\n",
       "\n",
       "    .dataframe tbody tr th {\n",
       "        vertical-align: top;\n",
       "    }\n",
       "\n",
       "    .dataframe thead th {\n",
       "        text-align: right;\n",
       "    }\n",
       "</style>\n",
       "<table border=\"1\" class=\"dataframe\">\n",
       "  <thead>\n",
       "    <tr style=\"text-align: right;\">\n",
       "      <th></th>\n",
       "      <th>antecedents</th>\n",
       "      <th>consequents</th>\n",
       "      <th>antecedent support</th>\n",
       "      <th>consequent support</th>\n",
       "      <th>support</th>\n",
       "      <th>confidence</th>\n",
       "      <th>lift</th>\n",
       "      <th>leverage</th>\n",
       "      <th>conviction</th>\n",
       "    </tr>\n",
       "  </thead>\n",
       "  <tbody>\n",
       "    <tr>\n",
       "      <th>0</th>\n",
       "      <td>(avocado)</td>\n",
       "      <td>(artichok)</td>\n",
       "      <td>0.362637</td>\n",
       "      <td>0.304695</td>\n",
       "      <td>0.210789</td>\n",
       "      <td>0.581267</td>\n",
       "      <td>1.907700</td>\n",
       "      <td>0.100295</td>\n",
       "      <td>1.660497</td>\n",
       "    </tr>\n",
       "    <tr>\n",
       "      <th>1</th>\n",
       "      <td>(artichok)</td>\n",
       "      <td>(avocado)</td>\n",
       "      <td>0.304695</td>\n",
       "      <td>0.362637</td>\n",
       "      <td>0.210789</td>\n",
       "      <td>0.691803</td>\n",
       "      <td>1.907700</td>\n",
       "      <td>0.100295</td>\n",
       "      <td>2.068038</td>\n",
       "    </tr>\n",
       "    <tr>\n",
       "      <th>2</th>\n",
       "      <td>(heineken)</td>\n",
       "      <td>(artichok)</td>\n",
       "      <td>0.599401</td>\n",
       "      <td>0.304695</td>\n",
       "      <td>0.251748</td>\n",
       "      <td>0.420000</td>\n",
       "      <td>1.378426</td>\n",
       "      <td>0.069114</td>\n",
       "      <td>1.198801</td>\n",
       "    </tr>\n",
       "    <tr>\n",
       "      <th>3</th>\n",
       "      <td>(artichok)</td>\n",
       "      <td>(heineken)</td>\n",
       "      <td>0.304695</td>\n",
       "      <td>0.599401</td>\n",
       "      <td>0.251748</td>\n",
       "      <td>0.826230</td>\n",
       "      <td>1.378426</td>\n",
       "      <td>0.069114</td>\n",
       "      <td>2.305336</td>\n",
       "    </tr>\n",
       "    <tr>\n",
       "      <th>4</th>\n",
       "      <td>(avocado)</td>\n",
       "      <td>(baguette)</td>\n",
       "      <td>0.362637</td>\n",
       "      <td>0.391608</td>\n",
       "      <td>0.214785</td>\n",
       "      <td>0.592287</td>\n",
       "      <td>1.512446</td>\n",
       "      <td>0.072773</td>\n",
       "      <td>1.492204</td>\n",
       "    </tr>\n",
       "  </tbody>\n",
       "</table>\n",
       "</div>"
      ],
      "text/plain": [
       "  antecedents consequents  antecedent support  consequent support   support  \\\n",
       "0   (avocado)  (artichok)            0.362637            0.304695  0.210789   \n",
       "1  (artichok)   (avocado)            0.304695            0.362637  0.210789   \n",
       "2  (heineken)  (artichok)            0.599401            0.304695  0.251748   \n",
       "3  (artichok)  (heineken)            0.304695            0.599401  0.251748   \n",
       "4   (avocado)  (baguette)            0.362637            0.391608  0.214785   \n",
       "\n",
       "   confidence      lift  leverage  conviction  \n",
       "0    0.581267  1.907700  0.100295    1.660497  \n",
       "1    0.691803  1.907700  0.100295    2.068038  \n",
       "2    0.420000  1.378426  0.069114    1.198801  \n",
       "3    0.826230  1.378426  0.069114    2.305336  \n",
       "4    0.592287  1.512446  0.072773    1.492204  "
      ]
     },
     "execution_count": 28,
     "metadata": {},
     "output_type": "execute_result"
    }
   ],
   "source": [
    "# Cгенерируем ассоциативные правила с поддержкой выше 0.2 и выведем первые 5\n",
    "association_rules(frequent_itemsets, metric=\"support\", min_threshold=0.2).head()"
   ]
  },
  {
   "cell_type": "markdown",
   "metadata": {
    "id": "TdVgL9JIIaPj"
   },
   "source": [
    "**Постройте модели (apriori и fpgrowth) с minimum confidence 30%.**\n",
    "\n",
    "**Ответьте на вопросы:**\n",
    "1.   Сколько различных значений принимает переменная PRODUCT?\n",
    "2.   Найдите самое достоверное правило (если их несколько, то правило с самой большой поддержкой), содержащее продукт cracker (вариант I) или chicken (вариант II) в самом начале цепочки. Что это за правило? Что оно обозначает (дайте словесную интерпретацию)\n",
    "3.   Какая у него поддержка? Что означает это число?"
   ]
  },
  {
   "cell_type": "code",
   "execution_count": 40,
   "metadata": {},
   "outputs": [
    {
     "data": {
      "text/html": [
       "<div>\n",
       "<style scoped>\n",
       "    .dataframe tbody tr th:only-of-type {\n",
       "        vertical-align: middle;\n",
       "    }\n",
       "\n",
       "    .dataframe tbody tr th {\n",
       "        vertical-align: top;\n",
       "    }\n",
       "\n",
       "    .dataframe thead th {\n",
       "        text-align: right;\n",
       "    }\n",
       "</style>\n",
       "<table border=\"1\" class=\"dataframe\">\n",
       "  <thead>\n",
       "    <tr style=\"text-align: right;\">\n",
       "      <th></th>\n",
       "      <th>antecedents</th>\n",
       "      <th>consequents</th>\n",
       "      <th>antecedent support</th>\n",
       "      <th>consequent support</th>\n",
       "      <th>support</th>\n",
       "      <th>confidence</th>\n",
       "      <th>lift</th>\n",
       "      <th>leverage</th>\n",
       "      <th>conviction</th>\n",
       "    </tr>\n",
       "  </thead>\n",
       "  <tbody>\n",
       "    <tr>\n",
       "      <th>0</th>\n",
       "      <td>(avocado)</td>\n",
       "      <td>(apples)</td>\n",
       "      <td>0.362637</td>\n",
       "      <td>0.313686</td>\n",
       "      <td>0.138861</td>\n",
       "      <td>0.382920</td>\n",
       "      <td>1.220710</td>\n",
       "      <td>0.025107</td>\n",
       "      <td>1.112196</td>\n",
       "    </tr>\n",
       "    <tr>\n",
       "      <th>1</th>\n",
       "      <td>(apples)</td>\n",
       "      <td>(avocado)</td>\n",
       "      <td>0.313686</td>\n",
       "      <td>0.362637</td>\n",
       "      <td>0.138861</td>\n",
       "      <td>0.442675</td>\n",
       "      <td>1.220710</td>\n",
       "      <td>0.025107</td>\n",
       "      <td>1.143611</td>\n",
       "    </tr>\n",
       "    <tr>\n",
       "      <th>2</th>\n",
       "      <td>(apples)</td>\n",
       "      <td>(baguette)</td>\n",
       "      <td>0.313686</td>\n",
       "      <td>0.391608</td>\n",
       "      <td>0.146853</td>\n",
       "      <td>0.468153</td>\n",
       "      <td>1.195462</td>\n",
       "      <td>0.024011</td>\n",
       "      <td>1.143922</td>\n",
       "    </tr>\n",
       "    <tr>\n",
       "      <th>3</th>\n",
       "      <td>(baguette)</td>\n",
       "      <td>(apples)</td>\n",
       "      <td>0.391608</td>\n",
       "      <td>0.313686</td>\n",
       "      <td>0.146853</td>\n",
       "      <td>0.375000</td>\n",
       "      <td>1.195462</td>\n",
       "      <td>0.024011</td>\n",
       "      <td>1.098102</td>\n",
       "    </tr>\n",
       "    <tr>\n",
       "      <th>4</th>\n",
       "      <td>(apples)</td>\n",
       "      <td>(corned_b)</td>\n",
       "      <td>0.313686</td>\n",
       "      <td>0.390609</td>\n",
       "      <td>0.150849</td>\n",
       "      <td>0.480892</td>\n",
       "      <td>1.231132</td>\n",
       "      <td>0.028320</td>\n",
       "      <td>1.173918</td>\n",
       "    </tr>\n",
       "  </tbody>\n",
       "</table>\n",
       "</div>"
      ],
      "text/plain": [
       "  antecedents consequents  antecedent support  consequent support   support  \\\n",
       "0   (avocado)    (apples)            0.362637            0.313686  0.138861   \n",
       "1    (apples)   (avocado)            0.313686            0.362637  0.138861   \n",
       "2    (apples)  (baguette)            0.313686            0.391608  0.146853   \n",
       "3  (baguette)    (apples)            0.391608            0.313686  0.146853   \n",
       "4    (apples)  (corned_b)            0.313686            0.390609  0.150849   \n",
       "\n",
       "   confidence      lift  leverage  conviction  \n",
       "0    0.382920  1.220710  0.025107    1.112196  \n",
       "1    0.442675  1.220710  0.025107    1.143611  \n",
       "2    0.468153  1.195462  0.024011    1.143922  \n",
       "3    0.375000  1.195462  0.024011    1.098102  \n",
       "4    0.480892  1.231132  0.028320    1.173918  "
      ]
     },
     "execution_count": 40,
     "metadata": {},
     "output_type": "execute_result"
    }
   ],
   "source": [
    "# Cгенерируем ассоциативные правила с confidence выше 0.3 и выведем первые 5\n",
    "x = association_rules(frequent_itemsets, metric=\"confidence\", min_threshold=0.3)\n",
    "x.head()\n",
    "# это модель apriori"
   ]
  },
  {
   "cell_type": "code",
   "execution_count": 48,
   "metadata": {},
   "outputs": [
    {
     "data": {
      "text/html": [
       "<div>\n",
       "<style scoped>\n",
       "    .dataframe tbody tr th:only-of-type {\n",
       "        vertical-align: middle;\n",
       "    }\n",
       "\n",
       "    .dataframe tbody tr th {\n",
       "        vertical-align: top;\n",
       "    }\n",
       "\n",
       "    .dataframe thead th {\n",
       "        text-align: right;\n",
       "    }\n",
       "</style>\n",
       "<table border=\"1\" class=\"dataframe\">\n",
       "  <thead>\n",
       "    <tr style=\"text-align: right;\">\n",
       "      <th></th>\n",
       "      <th>antecedents</th>\n",
       "      <th>consequents</th>\n",
       "      <th>antecedent support</th>\n",
       "      <th>consequent support</th>\n",
       "      <th>support</th>\n",
       "      <th>confidence</th>\n",
       "      <th>lift</th>\n",
       "      <th>leverage</th>\n",
       "      <th>conviction</th>\n",
       "    </tr>\n",
       "  </thead>\n",
       "  <tbody>\n",
       "    <tr>\n",
       "      <th>0</th>\n",
       "      <td>(hering)</td>\n",
       "      <td>(heineken)</td>\n",
       "      <td>0.485514</td>\n",
       "      <td>0.599401</td>\n",
       "      <td>0.287712</td>\n",
       "      <td>0.592593</td>\n",
       "      <td>0.988642</td>\n",
       "      <td>-0.003305</td>\n",
       "      <td>0.983289</td>\n",
       "    </tr>\n",
       "    <tr>\n",
       "      <th>1</th>\n",
       "      <td>(heineken)</td>\n",
       "      <td>(hering)</td>\n",
       "      <td>0.599401</td>\n",
       "      <td>0.485514</td>\n",
       "      <td>0.287712</td>\n",
       "      <td>0.480000</td>\n",
       "      <td>0.988642</td>\n",
       "      <td>-0.003305</td>\n",
       "      <td>0.989395</td>\n",
       "    </tr>\n",
       "    <tr>\n",
       "      <th>2</th>\n",
       "      <td>(hering)</td>\n",
       "      <td>(cracker)</td>\n",
       "      <td>0.485514</td>\n",
       "      <td>0.487512</td>\n",
       "      <td>0.200799</td>\n",
       "      <td>0.413580</td>\n",
       "      <td>0.848348</td>\n",
       "      <td>-0.035895</td>\n",
       "      <td>0.873926</td>\n",
       "    </tr>\n",
       "    <tr>\n",
       "      <th>3</th>\n",
       "      <td>(cracker)</td>\n",
       "      <td>(hering)</td>\n",
       "      <td>0.487512</td>\n",
       "      <td>0.485514</td>\n",
       "      <td>0.200799</td>\n",
       "      <td>0.411885</td>\n",
       "      <td>0.848348</td>\n",
       "      <td>-0.035895</td>\n",
       "      <td>0.874805</td>\n",
       "    </tr>\n",
       "    <tr>\n",
       "      <th>4</th>\n",
       "      <td>(hering, heineken)</td>\n",
       "      <td>(cracker)</td>\n",
       "      <td>0.287712</td>\n",
       "      <td>0.487512</td>\n",
       "      <td>0.162837</td>\n",
       "      <td>0.565972</td>\n",
       "      <td>1.160939</td>\n",
       "      <td>0.022574</td>\n",
       "      <td>1.180771</td>\n",
       "    </tr>\n",
       "  </tbody>\n",
       "</table>\n",
       "</div>"
      ],
      "text/plain": [
       "          antecedents consequents  antecedent support  consequent support  \\\n",
       "0            (hering)  (heineken)            0.485514            0.599401   \n",
       "1          (heineken)    (hering)            0.599401            0.485514   \n",
       "2            (hering)   (cracker)            0.485514            0.487512   \n",
       "3           (cracker)    (hering)            0.487512            0.485514   \n",
       "4  (hering, heineken)   (cracker)            0.287712            0.487512   \n",
       "\n",
       "    support  confidence      lift  leverage  conviction  \n",
       "0  0.287712    0.592593  0.988642 -0.003305    0.983289  \n",
       "1  0.287712    0.480000  0.988642 -0.003305    0.989395  \n",
       "2  0.200799    0.413580  0.848348 -0.035895    0.873926  \n",
       "3  0.200799    0.411885  0.848348 -0.035895    0.874805  \n",
       "4  0.162837    0.565972  1.160939  0.022574    1.180771  "
      ]
     },
     "execution_count": 48,
     "metadata": {},
     "output_type": "execute_result"
    }
   ],
   "source": [
    "# Построим модель fpgrowth и аналогичные правила\n",
    "frequent_itemsets_fpgrowth = get_frequent_items(transactions, model = \"fpgrowth\")\n",
    "association_rules(frequent_itemsets_fpgrowth, metric=\"confidence\", min_threshold=0.3).head()"
   ]
  },
  {
   "cell_type": "code",
   "execution_count": 39,
   "metadata": {},
   "outputs": [
    {
     "data": {
      "text/plain": [
       "20"
      ]
     },
     "execution_count": 39,
     "metadata": {},
     "output_type": "execute_result"
    }
   ],
   "source": [
    "# к первому вопросу\n",
    "df.PRODUCT.nunique()"
   ]
  },
  {
   "cell_type": "code",
   "execution_count": 61,
   "metadata": {
    "scrolled": false
   },
   "outputs": [
    {
     "data": {
      "text/html": [
       "<div>\n",
       "<style scoped>\n",
       "    .dataframe tbody tr th:only-of-type {\n",
       "        vertical-align: middle;\n",
       "    }\n",
       "\n",
       "    .dataframe tbody tr th {\n",
       "        vertical-align: top;\n",
       "    }\n",
       "\n",
       "    .dataframe thead th {\n",
       "        text-align: right;\n",
       "    }\n",
       "</style>\n",
       "<table border=\"1\" class=\"dataframe\">\n",
       "  <thead>\n",
       "    <tr style=\"text-align: right;\">\n",
       "      <th></th>\n",
       "      <th>antecedents</th>\n",
       "      <th>consequents</th>\n",
       "      <th>antecedent support</th>\n",
       "      <th>consequent support</th>\n",
       "      <th>support</th>\n",
       "      <th>confidence</th>\n",
       "      <th>lift</th>\n",
       "      <th>leverage</th>\n",
       "      <th>conviction</th>\n",
       "    </tr>\n",
       "  </thead>\n",
       "  <tbody>\n",
       "    <tr>\n",
       "      <th>82</th>\n",
       "      <td>(chicken)</td>\n",
       "      <td>(heineken)</td>\n",
       "      <td>0.314685</td>\n",
       "      <td>0.599401</td>\n",
       "      <td>0.200799</td>\n",
       "      <td>0.638095</td>\n",
       "      <td>1.064556</td>\n",
       "      <td>0.012177</td>\n",
       "      <td>1.106919</td>\n",
       "    </tr>\n",
       "  </tbody>\n",
       "</table>\n",
       "</div>"
      ],
      "text/plain": [
       "   antecedents consequents  antecedent support  consequent support   support  \\\n",
       "82   (chicken)  (heineken)            0.314685            0.599401  0.200799   \n",
       "\n",
       "    confidence      lift  leverage  conviction  \n",
       "82    0.638095  1.064556  0.012177    1.106919  "
      ]
     },
     "execution_count": 61,
     "metadata": {},
     "output_type": "execute_result"
    }
   ],
   "source": [
    "# ко второму вопросу\n",
    "x.loc[x['antecedents'] == {'chicken'}].sort_values(['confidence', 'support'], ascending=False).head(1)"
   ]
  },
  {
   "cell_type": "markdown",
   "metadata": {},
   "source": [
    "**Ответы на вопросы:**\n",
    "\n",
    "1. 20\n",
    "2. Правило chicken -> heineken имеет достоверность примерно 0.64. Оно обозначает, что при покупке chicken с вероятностью 75% купят также и heineken. \n",
    "3. Поддержка примерно 0.2. Это означает, что в такой части транзакций продукты chicken и heineken присутствуют вместе."
   ]
  },
  {
   "cell_type": "markdown",
   "metadata": {
    "id": "dxdV_EyweMpN"
   },
   "source": [
    "### Часть 2: Анализ графов связности"
   ]
  },
  {
   "cell_type": "code",
   "execution_count": 65,
   "metadata": {
    "id": "xhfCVN5GJbJ9"
   },
   "outputs": [],
   "source": [
    "# Построим направленный мультиграф\n",
    "# Граф построен на направленных связях последовательных покупок\n",
    "G=nx.MultiDiGraph()\n",
    "for t in transactions:\n",
    "    for i in range(len(t) - 1):\n",
    "        if t[i+1] == 'sardines': # отобразим только рёбра, направленные в sardines\n",
    "            G.add_edge(t[i],t[i+1])"
   ]
  },
  {
   "cell_type": "code",
   "execution_count": 66,
   "metadata": {
    "colab": {
     "base_uri": "https://localhost:8080/",
     "height": 792
    },
    "id": "GY3PYnJMf7Qu",
    "outputId": "a76ff6c1-e588-4691-9051-90a3f8258b52"
   },
   "outputs": [
    {
     "data": {
      "image/png": "[encoded data removed]",
      "text/plain": [
       "<Figure size 1440x1008 with 1 Axes>"
      ]
     },
     "metadata": {},
     "output_type": "display_data"
    }
   ],
   "source": [
    "# Визуализируем граф\n",
    "plt.figure(figsize=(20, 14))\n",
    "pos = nx.spring_layout(G)\n",
    "nodes = nx.draw_networkx_nodes(G, pos)\n",
    "edges = nx.draw_networkx_edges(G, pos, alpha=0.01)\n",
    "labels = nx.draw_networkx_labels(G, pos)"
   ]
  },
  {
   "cell_type": "code",
   "execution_count": 14,
   "metadata": {
    "colab": {
     "base_uri": "https://localhost:8080/"
    },
    "id": "xEg8_EngSKNm",
    "outputId": "24e89c0c-0470-4d01-d43f-99c84504a7e4"
   },
   "outputs": [
    {
     "data": {
      "text/plain": [
       "{'apples': 1.0,\n",
       " 'artichok': 1.0,\n",
       " 'avocado': 1.0,\n",
       " 'baguette': 0.8636363636363636,\n",
       " 'bordeaux': 0.6129032258064516,\n",
       " 'bourbon': 1.0,\n",
       " 'chicken': 1.0,\n",
       " 'coke': 1.0,\n",
       " 'corned_b': 1.0,\n",
       " 'cracker': 0.9047619047619048,\n",
       " 'ham': 1.0,\n",
       " 'heineken': 0.8636363636363636,\n",
       " 'hering': 0.9047619047619048,\n",
       " 'ice_crea': 1.0,\n",
       " 'olives': 0.95,\n",
       " 'peppers': 0.95,\n",
       " 'sardines': 0.95,\n",
       " 'soda': 1.0,\n",
       " 'steak': 1.0,\n",
       " 'turkey': 0.9047619047619048}"
      ]
     },
     "execution_count": 14,
     "metadata": {},
     "output_type": "execute_result"
    }
   ],
   "source": [
    "# Также, можно рассчитать метрики центральности\n",
    "# Все доступные метрики: https://networkx.org/documentation/stable/reference/algorithms/centrality.html\n",
    "\n",
    "# Пример расчета меры closeness\n",
    "nx.closeness_centrality(G)"
   ]
  },
  {
   "cell_type": "markdown",
   "metadata": {
    "id": "58rBcz81eZDw"
   },
   "source": [
    "**Вопрос части 2**: посмотрите на график и ответьте на вопрос после какого продукта обычно приобретается soda (вариант I) или sardines (вариант II)"
   ]
  },
  {
   "cell_type": "markdown",
   "metadata": {},
   "source": [
    "**Ответ:** sardines обычно приобретается после baguette"
   ]
  }
 ],
 "metadata": {
  "colab": {
   "collapsed_sections": [],
   "name": "Задание1ИАД.ipynb",
   "provenance": []
  },
  "kernelspec": {
   "display_name": "Python 3",
   "language": "python",
   "name": "python3"
  },
  "language_info": {
   "codemirror_mode": {
    "name": "ipython",
    "version": 3
   },
   "file_extension": ".py",
   "mimetype": "text/x-python",
   "name": "python",
   "nbconvert_exporter": "python",
   "pygments_lexer": "ipython3",
   "version": "3.7.6"
  }
 },
 "nbformat": 4,
 "nbformat_minor": 1
}
