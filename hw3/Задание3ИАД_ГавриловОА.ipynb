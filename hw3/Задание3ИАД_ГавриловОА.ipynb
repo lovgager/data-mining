{
 "cells": [
  {
   "cell_type": "code",
   "execution_count": 1,
   "metadata": {
    "id": "p41tv6DRBq3v"
   },
   "outputs": [],
   "source": [
    "import warnings\n",
    "warnings.filterwarnings('ignore')"
   ]
  },
  {
   "cell_type": "markdown",
   "metadata": {
    "id": "BvlBvTDIn371"
   },
   "source": [
    "### Импорт библиотек"
   ]
  },
  {
   "cell_type": "code",
   "execution_count": 2,
   "metadata": {
    "id": "VB-0IuuFnwtp"
   },
   "outputs": [],
   "source": [
    "# Импорт библиотек для проведения расчетов\n",
    "import pandas as pd\n",
    "import numpy as np\n",
    "from sklearn.preprocessing import StandardScaler\n",
    "from sklearn.preprocessing import QuantileTransformer\n",
    "from sklearn.decomposition import PCA\n",
    "\n",
    "from sklearn.model_selection import train_test_split\n",
    "from sklearn.pipeline import Pipeline\n",
    "from sklearn.preprocessing import FunctionTransformer\n",
    "from sklearn.metrics import mean_squared_error"
   ]
  },
  {
   "cell_type": "code",
   "execution_count": 3,
   "metadata": {
    "id": "waEHhJ88dGHf"
   },
   "outputs": [],
   "source": [
    "# Импорт библиотек для визуализации\n",
    "from matplotlib import pyplot as plt\n",
    "import seaborn as sns"
   ]
  },
  {
   "cell_type": "code",
   "execution_count": 4,
   "metadata": {
    "colab": {
     "base_uri": "https://localhost:8080/"
    },
    "id": "wgo080PnQxUS",
    "outputId": "4e9f2b7e-5073-45c4-8b08-ff435ec5805a"
   },
   "outputs": [
    {
     "name": "stdout",
     "output_type": "stream",
     "text": [
      "Requirement already satisfied: varclushi in c:\\users\\oleg\\anaconda3\\lib\\site-packages (0.1.0)\n",
      "Requirement already satisfied: factor-analyzer==0.3.1 in c:\\users\\oleg\\anaconda3\\lib\\site-packages (from varclushi) (0.3.1)\n",
      "Requirement already satisfied: pandas in c:\\users\\oleg\\anaconda3\\lib\\site-packages (from varclushi) (1.0.1)\n",
      "Requirement already satisfied: numpy in c:\\users\\oleg\\anaconda3\\lib\\site-packages (from varclushi) (1.18.1)\n",
      "Requirement already satisfied: scikit-learn in c:\\users\\oleg\\anaconda3\\lib\\site-packages (from factor-analyzer==0.3.1->varclushi) (1.0.2)\n",
      "Requirement already satisfied: scipy in c:\\users\\oleg\\anaconda3\\lib\\site-packages (from factor-analyzer==0.3.1->varclushi) (1.4.1)\n",
      "Requirement already satisfied: pytz>=2017.2 in c:\\users\\oleg\\anaconda3\\lib\\site-packages (from pandas->varclushi) (2019.3)\n",
      "Requirement already satisfied: python-dateutil>=2.6.1 in c:\\users\\oleg\\anaconda3\\lib\\site-packages (from pandas->varclushi) (2.8.1)\n",
      "Requirement already satisfied: threadpoolctl>=2.0.0 in c:\\users\\oleg\\anaconda3\\lib\\site-packages (from scikit-learn->factor-analyzer==0.3.1->varclushi) (3.1.0)\n",
      "Requirement already satisfied: joblib>=0.11 in c:\\users\\oleg\\anaconda3\\lib\\site-packages (from scikit-learn->factor-analyzer==0.3.1->varclushi) (0.14.1)\n",
      "Requirement already satisfied: six>=1.5 in c:\\users\\oleg\\anaconda3\\lib\\site-packages (from python-dateutil>=2.6.1->pandas->varclushi) (1.14.0)\n"
     ]
    }
   ],
   "source": [
    "# Импорт библиотеки кластеризации переменных\n",
    "# https://pypi.org/project/varclushi/\n",
    "! pip install varclushi\n",
    "from varclushi import VarClusHi"
   ]
  },
  {
   "cell_type": "markdown",
   "metadata": {
    "id": "E79qR3s7n_1X"
   },
   "source": [
    "## Загрузка данных"
   ]
  },
  {
   "cell_type": "code",
   "execution_count": 5,
   "metadata": {
    "id": "jtYmPhhDoCQI"
   },
   "outputs": [],
   "source": [
    "# Указываем путь к файлу\n",
    "# При работе с google colab существует 2 варианта загрузки файла:\n",
    "# 1. Через google drive\n",
    "# 2. Через левое меню: \"файлы\" -> \"загрузить в сессионное хранилище\" -> \"скопировать файл\" (при наведении на файл)\n",
    "file_path = 'white_wine.csv'"
   ]
  },
  {
   "cell_type": "code",
   "execution_count": 6,
   "metadata": {
    "colab": {
     "base_uri": "https://localhost:8080/",
     "height": 206
    },
    "id": "E8LgzOBwoKsT",
    "outputId": "6f7a217a-a0a5-4150-cab0-ef46616dcf15"
   },
   "outputs": [
    {
     "data": {
      "text/html": [
       "<div>\n",
       "<style scoped>\n",
       "    .dataframe tbody tr th:only-of-type {\n",
       "        vertical-align: middle;\n",
       "    }\n",
       "\n",
       "    .dataframe tbody tr th {\n",
       "        vertical-align: top;\n",
       "    }\n",
       "\n",
       "    .dataframe thead th {\n",
       "        text-align: right;\n",
       "    }\n",
       "</style>\n",
       "<table border=\"1\" class=\"dataframe\">\n",
       "  <thead>\n",
       "    <tr style=\"text-align: right;\">\n",
       "      <th></th>\n",
       "      <th>fixed acidity</th>\n",
       "      <th>volatile acidity</th>\n",
       "      <th>citric acid</th>\n",
       "      <th>sugar</th>\n",
       "      <th>chlorides</th>\n",
       "      <th>free sulfur dioxide</th>\n",
       "      <th>total sulfur dioxide</th>\n",
       "      <th>density</th>\n",
       "      <th>pH</th>\n",
       "      <th>sulphates</th>\n",
       "      <th>alcohol</th>\n",
       "      <th>target_quality</th>\n",
       "    </tr>\n",
       "  </thead>\n",
       "  <tbody>\n",
       "    <tr>\n",
       "      <th>0</th>\n",
       "      <td>7.0</td>\n",
       "      <td>0.27</td>\n",
       "      <td>0.36</td>\n",
       "      <td>20.7</td>\n",
       "      <td>0.045</td>\n",
       "      <td>45.0</td>\n",
       "      <td>170.0</td>\n",
       "      <td>1.0010</td>\n",
       "      <td>3.00</td>\n",
       "      <td>0.45</td>\n",
       "      <td>8.8</td>\n",
       "      <td>6.0</td>\n",
       "    </tr>\n",
       "    <tr>\n",
       "      <th>1</th>\n",
       "      <td>6.3</td>\n",
       "      <td>0.30</td>\n",
       "      <td>0.34</td>\n",
       "      <td>1.6</td>\n",
       "      <td>0.049</td>\n",
       "      <td>14.0</td>\n",
       "      <td>132.0</td>\n",
       "      <td>0.9940</td>\n",
       "      <td>3.30</td>\n",
       "      <td>0.49</td>\n",
       "      <td>9.5</td>\n",
       "      <td>6.0</td>\n",
       "    </tr>\n",
       "    <tr>\n",
       "      <th>2</th>\n",
       "      <td>8.1</td>\n",
       "      <td>0.28</td>\n",
       "      <td>0.40</td>\n",
       "      <td>6.9</td>\n",
       "      <td>0.050</td>\n",
       "      <td>30.0</td>\n",
       "      <td>97.0</td>\n",
       "      <td>0.9951</td>\n",
       "      <td>3.26</td>\n",
       "      <td>0.44</td>\n",
       "      <td>10.1</td>\n",
       "      <td>6.0</td>\n",
       "    </tr>\n",
       "    <tr>\n",
       "      <th>3</th>\n",
       "      <td>7.2</td>\n",
       "      <td>0.23</td>\n",
       "      <td>0.32</td>\n",
       "      <td>8.5</td>\n",
       "      <td>0.058</td>\n",
       "      <td>47.0</td>\n",
       "      <td>186.0</td>\n",
       "      <td>0.9956</td>\n",
       "      <td>3.19</td>\n",
       "      <td>0.40</td>\n",
       "      <td>9.9</td>\n",
       "      <td>6.0</td>\n",
       "    </tr>\n",
       "    <tr>\n",
       "      <th>4</th>\n",
       "      <td>7.2</td>\n",
       "      <td>0.23</td>\n",
       "      <td>0.32</td>\n",
       "      <td>8.5</td>\n",
       "      <td>0.058</td>\n",
       "      <td>47.0</td>\n",
       "      <td>186.0</td>\n",
       "      <td>0.9956</td>\n",
       "      <td>3.19</td>\n",
       "      <td>0.40</td>\n",
       "      <td>9.9</td>\n",
       "      <td>6.0</td>\n",
       "    </tr>\n",
       "  </tbody>\n",
       "</table>\n",
       "</div>"
      ],
      "text/plain": [
       "   fixed acidity      volatile acidity      citric acid      sugar    \\\n",
       "0              7.0                  0.27             0.36       20.7   \n",
       "1              6.3                  0.30             0.34        1.6   \n",
       "2              8.1                  0.28             0.40        6.9   \n",
       "3              7.2                  0.23             0.32        8.5   \n",
       "4              7.2                  0.23             0.32        8.5   \n",
       "\n",
       "     chlorides      free sulfur dioxide      total sulfur dioxide    \\\n",
       "0          0.045                     45.0                     170.0   \n",
       "1          0.049                     14.0                     132.0   \n",
       "2          0.050                     30.0                      97.0   \n",
       "3          0.058                     47.0                     186.0   \n",
       "4          0.058                     47.0                     186.0   \n",
       "\n",
       "     density      pH      sulphates      alcohol      target_quality     \n",
       "0       1.0010    3.00           0.45          8.8                  6.0  \n",
       "1       0.9940    3.30           0.49          9.5                  6.0  \n",
       "2       0.9951    3.26           0.44         10.1                  6.0  \n",
       "3       0.9956    3.19           0.40          9.9                  6.0  \n",
       "4       0.9956    3.19           0.40          9.9                  6.0  "
      ]
     },
     "execution_count": 6,
     "metadata": {},
     "output_type": "execute_result"
    }
   ],
   "source": [
    "# Загружаем данные из SAS файла\n",
    "df = pd.read_csv(file_path)\n",
    "df = df.astype('float')\n",
    "# Пример данных\n",
    "df.head()"
   ]
  },
  {
   "cell_type": "markdown",
   "metadata": {
    "id": "do4hZydVE-Mx"
   },
   "source": [
    "## Функции обработки"
   ]
  },
  {
   "cell_type": "code",
   "execution_count": 7,
   "metadata": {
    "id": "WFFnRUa7bghT"
   },
   "outputs": [],
   "source": [
    "# Метод главных компонент\n",
    "def pca_transform(X, transform = []):\n",
    "    pca_model = PCA(n_components='mle')\n",
    "    pca_model.fit(X)\n",
    "\n",
    "    if transform == []:\n",
    "        transform = [X]\n",
    "    return [pca_model.transform(t) for t in transform]"
   ]
  },
  {
   "cell_type": "code",
   "execution_count": 8,
   "metadata": {
    "id": "xkDFlEqVRyX1"
   },
   "outputs": [],
   "source": [
    "# Кластеризация переменных\n",
    "def variable_clustering(X, transform = []):\n",
    "    var_clust_model = VarClusHi(X, maxeigval2 = .7, maxclus = None)\n",
    "    var_clust_model.varclus()\n",
    "    var_clust = var_clust_model.rsquare.loc[:, [\"Cluster\",\"Variable\",\"RS_Ratio\"]]\n",
    "    vars = var_clust.sort_values(\"RS_Ratio\").drop_duplicates(['Cluster'],keep='first')[\"Variable\"].to_list()\n",
    "\n",
    "    if transform == []:\n",
    "        transform = [X]\n",
    "    return [t.loc[:, vars] for t in transform]"
   ]
  },
  {
   "cell_type": "code",
   "execution_count": 9,
   "metadata": {
    "id": "PoJOgLC9xylf"
   },
   "outputs": [],
   "source": [
    "# Разделение на обучающую, валидационную и тестовую выборку\n",
    "def data_partition(X, y):\n",
    "    X_train, X_test_val, y_train, y_test_val = train_test_split(X, y, stratify = y, test_size=0.6, random_state=42)\n",
    "    X_val, X_test, y_val, y_test = train_test_split(X_test_val, y_test_val, stratify = y_test_val, test_size=0.5, random_state=42)\n",
    "    return (X_train, y_train, X_val, y_val, X_test, y_test)"
   ]
  },
  {
   "cell_type": "code",
   "execution_count": 10,
   "metadata": {
    "id": "l3pnB8YFMU5a"
   },
   "outputs": [],
   "source": [
    "# Расчет ошибки прогнозирования\n",
    "def score_model_mae(model, \n",
    "                    X_train, y_train,\n",
    "                    X_val, y_val,\n",
    "                    X_test, y_test):\n",
    "    print(model.__class__.__name__)\n",
    "    print(\"TRAIN MSE: {:f}\".format(mean_squared_error(y_train, model.predict(X_train))))\n",
    "    print(\"VAL MSE: {:f}\".format(mean_squared_error(y_val, model.predict(X_val))))\n",
    "    print(\"TEST MSE: {:f}\".format(mean_squared_error(y_test, model.predict(X_test))))"
   ]
  },
  {
   "cell_type": "markdown",
   "metadata": {
    "id": "kw1nPAhesq5q"
   },
   "source": [
    "## Формирование признакового пространства"
   ]
  },
  {
   "cell_type": "code",
   "execution_count": 11,
   "metadata": {},
   "outputs": [],
   "source": [
    "df.columns = df.columns.str.strip()"
   ]
  },
  {
   "cell_type": "code",
   "execution_count": 12,
   "metadata": {
    "id": "gjd_hshctEQm"
   },
   "outputs": [],
   "source": [
    "# Сформируем признаковое пространство:\n",
    "# Целевая переменная: target_quality. Описывает субъективную оценку качества сорта вина. \n",
    "# Остальные переменные - входные. \n",
    "# Задача – спрогнозировать оценку эксперта в зависимости от объективных химических показателей вина и выявить важные признаки\n",
    "y = df[\"target_quality\"].to_frame()\n",
    "X = df.loc[:, list(set(df.columns) - {\"target_quality\"})]\n",
    "\n",
    "# Дискретизация отклика\n",
    "qtransform = QuantileTransformer(output_distribution='normal', n_quantiles = 5, random_state = 42)\n",
    "y.values[:] = qtransform.fit_transform(y)"
   ]
  },
  {
   "cell_type": "markdown",
   "metadata": {
    "id": "l9YYUjBdswjQ"
   },
   "source": [
    "## Часть 1: KNN"
   ]
  },
  {
   "cell_type": "code",
   "execution_count": 13,
   "metadata": {
    "colab": {
     "base_uri": "https://localhost:8080/"
    },
    "id": "tw0XDXzns9V3",
    "outputId": "c00502be-d844-4678-e39c-aec0bb09dd13",
    "scrolled": true
   },
   "outputs": [
    {
     "name": "stdout",
     "output_type": "stream",
     "text": [
      "KNeighborsRegressor\n",
      "TRAIN MSE: 0.413794\n",
      "VAL MSE: 0.450412\n",
      "TEST MSE: 0.432806\n"
     ]
    }
   ],
   "source": [
    "from sklearn.neighbors import KNeighborsRegressor\n",
    "\n",
    "X_train, y_train, X_val, y_val, X_test, y_test = data_partition(X, y)\n",
    "\n",
    "# Стандартизация\n",
    "scaler = StandardScaler()\n",
    "scaler.fit(X_train)\n",
    "for X_ in (X_train, X_val, X_test):\n",
    "    X_.values[:] = scaler.transform(X_)\n",
    "\n",
    "# PCA или Variable clustring (вставьте свой код)\n",
    "X_train, X_val, X_test = variable_clustering(X_train, [X_train, X_val, X_test])\n",
    "\n",
    "# KNN \n",
    "knn = KNeighborsRegressor(n_neighbors=20)\n",
    "knn.fit(X_train, y_train)\n",
    "\n",
    "# Score\n",
    "score_model_mae(knn, X_train, y_train, X_val, y_val, X_test, y_test)"
   ]
  },
  {
   "cell_type": "markdown",
   "metadata": {
    "id": "KbTrtDyoYY5l"
   },
   "source": [
    "### Вопросы части 1:\n",
    "\n",
    "1. Какие значения MSE получились на тренировочном, валидационном и тестовом наборе данных?\n",
    "2. Перед применением KNN вставьте предобработку PCA (Вариант I), Variable clustering (Вариант II). \n",
    "3. Сколько переменных теперь передается на вход KNN? Как изменились значения MSE в результате? Почему это могло произойти?"
   ]
  },
  {
   "cell_type": "markdown",
   "metadata": {},
   "source": [
    "### Ответы к части 1"
   ]
  },
  {
   "cell_type": "markdown",
   "metadata": {},
   "source": [
    "1. Без предобработки:\\\n",
    "MSE на тренирочном наборе 0.385404\\\n",
    "MSE на валидационном наборе 0.441951\\\n",
    "MSE на тестовом наборе 0.402548"
   ]
  },
  {
   "cell_type": "markdown",
   "metadata": {},
   "source": [
    "2. С предобработкой (Variable clustering):\\\n",
    "MSE на тренировочном наборе 0.413794\\\n",
    "MSE на валидационном наборе 0.450412\\\n",
    "MSE на тестовом наборе 0.432806"
   ]
  },
  {
   "cell_type": "markdown",
   "metadata": {},
   "source": [
    "3. На вход KNN теперь передаётся 7 переменных вместо 11. В результате все три значения MSE увеличились. Это могло произойти из-за снижения сложности модели (недообучения)."
   ]
  },
  {
   "cell_type": "code",
   "execution_count": 14,
   "metadata": {
    "scrolled": true
   },
   "outputs": [
    {
     "data": {
      "text/plain": [
       "Index(['chlorides', 'sulphates', 'citric acid', 'volatile acidity', 'density',\n",
       "       'free sulfur dioxide', 'pH'],\n",
       "      dtype='object')"
      ]
     },
     "execution_count": 14,
     "metadata": {},
     "output_type": "execute_result"
    }
   ],
   "source": [
    "X_train.columns"
   ]
  },
  {
   "cell_type": "markdown",
   "metadata": {
    "id": "dJ0oISO9s2TM"
   },
   "source": [
    "## Часть 2: Regression"
   ]
  },
  {
   "cell_type": "code",
   "execution_count": 23,
   "metadata": {
    "id": "v-tCK0jas8O6"
   },
   "outputs": [],
   "source": [
    "from sklearn.preprocessing import MinMaxScaler\n",
    "from sklearn.preprocessing import PolynomialFeatures\n",
    "from sklearn.linear_model import LinearRegression\n",
    "from sklearn.feature_selection import SequentialFeatureSelector\n",
    "import statsmodels.api as sm\n",
    "# Документация для OLS\n",
    "# https://bookdown.org/mike/data_analysis/ordinary-least-squares.html\n",
    "\n",
    "X_train, y_train, X_val, y_val, X_test, y_test = data_partition(X, y)\n",
    "\n",
    "# MinMax стандартизация (вставьте свой код)\n",
    "scaler = MinMaxScaler()\n",
    "scaler.fit(X)\n",
    "X_train = scaler.transform(X_train)\n",
    "X_val = scaler.transform(X_val)\n",
    "X_test = scaler.transform(X_test)\n",
    "scaler.fit(y)\n",
    "y_train = scaler.transform(y_train)\n",
    "y_val = scaler.transform(y_val)\n",
    "y_test = scaler.transform(y_test)"
   ]
  },
  {
   "cell_type": "code",
   "execution_count": 24,
   "metadata": {},
   "outputs": [
    {
     "data": {
      "image/png": "[encoded data removed]",
      "text/plain": [
       "<Figure size 432x288 with 1 Axes>"
      ]
     },
     "metadata": {
      "needs_background": "light"
     },
     "output_type": "display_data"
    },
    {
     "name": "stdout",
     "output_type": "stream",
     "text": [
      "LinearRegression\n",
      "TRAIN MSE: 0.003595\n",
      "VAL MSE: 0.004101\n",
      "TEST MSE: 0.003680\n"
     ]
    }
   ],
   "source": [
    "# Построим полиномиальную регрессию (degree = 2)\n",
    "\n",
    "# Отобразмим пространство признаков в пространство полиномов степени 2\n",
    "poly_reg = PolynomialFeatures(degree=2)\n",
    "X_train = poly_reg.fit_transform(X_train)\n",
    "X_val = poly_reg.transform(X_val)\n",
    "X_test = poly_reg.transform(X_test)\n",
    "\n",
    "# Определим лучшее число признаков с помощью Forward\n",
    "best_feats = None\n",
    "features = []\n",
    "errs = []\n",
    "all_feats = set(range(X_train.shape[1]))\n",
    "step = 0\n",
    "min_step = 0\n",
    "while len(features) < len(all_feats):\n",
    "    step += 1\n",
    "    new_errs = []\n",
    "    new_feat = -1\n",
    "    pvalues = []\n",
    "    for feat in (all_feats - set(features)):\n",
    "        model = sm.OLS(y_train, X_train[:, features + [feat]])\n",
    "        res = model.fit()\n",
    "        pvalue = res.pvalues[-1]\n",
    "        pvalues.append(pvalue)\n",
    "        if min(pvalues) == pvalue:\n",
    "            new_feat = feat\n",
    "    # Выбираем лучший признак (с минимальным pvalue) и добавляем к пространству признаков\n",
    "    features.append(new_feat)\n",
    "\n",
    "    lr = LinearRegression()\n",
    "    lr.fit(X_train[:, features], y_train)\n",
    "    err = mean_squared_error(y_val, lr.predict(X_val[:, features]))\n",
    "    errs.append(err)\n",
    "    if min(errs) == err:\n",
    "        best_feats = features.copy()\n",
    "        min_step = step\n",
    "\n",
    "# Визуализируем ошибки\n",
    "idx = len(best_feats) - 1\n",
    "plt.plot(errs)\n",
    "plt.plot(idx, errs[idx], 'P', ms=10, mfc='red')\n",
    "plt.xlabel(\"Номер итерации\")\n",
    "plt.ylabel(\"MSE\")\n",
    "plt.title(\"Ошибка при отборе признаков методом Forward\")\n",
    "plt.show()\n",
    "\n",
    "# Обучим линейную регрессию на лучших признаках\n",
    "lr = LinearRegression()\n",
    "lr.fit(X_train[:, best_feats], y_train)\n",
    "\n",
    "score_model_mae(lr, \n",
    "                X_train[:, best_feats], y_train, \n",
    "                X_val[:, best_feats], y_val, \n",
    "                X_test[:, best_feats], y_test)"
   ]
  },
  {
   "cell_type": "markdown",
   "metadata": {
    "id": "kRsF4BAMXxfo"
   },
   "source": [
    "### Вопросы к части 2:\n",
    "\n",
    "1. Аналогично алгоритму выбора признаков Backward, опишите алгоритм Forward\n",
    "2. Какая модель показывает лучшее качество на тестовом наборе? \n",
    "3. Какие переменные не вошли в результирующую регрессионую модель? \n",
    "4. На каком шаге была выбрана лучшая модель?\n",
    "5. С помощью summary() определите какая из вошедших переменных наименее важная с точки зрения t-статистики?\n",
    "\n",
    "5. После разделения данных добавьте MinMaxScaler. Как изменились результаты регрессионной модели с точки числа степеней свободы и значения MSE на тестовом наборе?"
   ]
  },
  {
   "cell_type": "markdown",
   "metadata": {},
   "source": [
    "### Ответы к части 2"
   ]
  },
  {
   "cell_type": "markdown",
   "metadata": {},
   "source": [
    "1. Ошибки на алгоритме Backward:\\\n",
    "TRAIN MSE: 0.374462\\\n",
    "VAL MSE: 0.450904\\\n",
    "TEST MSE: 0.390574\\\n",
    "Алгоритм Forward реализован выше."
   ]
  },
  {
   "cell_type": "markdown",
   "metadata": {},
   "source": [
    "2. Ошибки на алгоритме Forward:\\\n",
    "TRAIN MSE: 0.427862\\\n",
    "VAL MSE: 0.441393\\\n",
    "TEST MSE: 0.430660\\\n",
    "На тестовом наборе лучшее качество показывает модель Backward."
   ]
  },
  {
   "cell_type": "code",
   "execution_count": 170,
   "metadata": {},
   "outputs": [
    {
     "data": {
      "text/plain": [
       "[57, 70, 6, 73, 72, 68, 14]"
      ]
     },
     "execution_count": 170,
     "metadata": {},
     "output_type": "execute_result"
    }
   ],
   "source": [
    "# 3. В результирующую модель вошли следующие переменные:\n",
    "best_feats"
   ]
  },
  {
   "cell_type": "code",
   "execution_count": 174,
   "metadata": {
    "scrolled": false
   },
   "outputs": [
    {
     "data": {
      "text/plain": [
       "array({0, 1, 2, 3, 4, 5, 7, 8, 9, 10, 11, 12, 13, 15, 16, 17, 18, 19, 20, 21, 22, 23, 24, 25, 26, 27, 28, 29, 30, 31, 32, 33, 34, 35, 36, 37, 38, 39, 40, 41, 42, 43, 44, 45, 46, 47, 48, 49, 50, 51, 52, 53, 54, 55, 56, 58, 59, 60, 61, 62, 63, 64, 65, 66, 67, 69, 71, 74, 75, 76, 77},\n",
       "      dtype=object)"
      ]
     },
     "execution_count": 174,
     "metadata": {},
     "output_type": "execute_result"
    }
   ],
   "source": [
    "# Соответственно, НЕ вошли переменные\n",
    "np.array(all_feats - set(best_feats))"
   ]
  },
  {
   "cell_type": "code",
   "execution_count": 178,
   "metadata": {},
   "outputs": [
    {
     "data": {
      "text/plain": [
       "7"
      ]
     },
     "execution_count": 178,
     "metadata": {},
     "output_type": "execute_result"
    }
   ],
   "source": [
    "# 4. Номер шага, на котором была выбрана лучшая модель\n",
    "min_step"
   ]
  },
  {
   "cell_type": "code",
   "execution_count": 17,
   "metadata": {
    "scrolled": true
   },
   "outputs": [
    {
     "data": {
      "text/html": [
       "<table class=\"simpletable\">\n",
       "<caption>OLS Regression Results</caption>\n",
       "<tr>\n",
       "  <th>Dep. Variable:</th>     <td>target_quality</td>  <th>  R-squared (uncentered):</th>      <td>   0.286</td> \n",
       "</tr>\n",
       "<tr>\n",
       "  <th>Model:</th>                   <td>OLS</td>       <th>  Adj. R-squared (uncentered):</th> <td>   0.283</td> \n",
       "</tr>\n",
       "<tr>\n",
       "  <th>Method:</th>             <td>Least Squares</td>  <th>  F-statistic:       </th>          <td>   111.6</td> \n",
       "</tr>\n",
       "<tr>\n",
       "  <th>Date:</th>             <td>Wed, 13 Apr 2022</td> <th>  Prob (F-statistic):</th>          <td>8.96e-138</td>\n",
       "</tr>\n",
       "<tr>\n",
       "  <th>Time:</th>                 <td>15:43:13</td>     <th>  Log-Likelihood:    </th>          <td> -1948.7</td> \n",
       "</tr>\n",
       "<tr>\n",
       "  <th>No. Observations:</th>      <td>  1959</td>      <th>  AIC:               </th>          <td>   3911.</td> \n",
       "</tr>\n",
       "<tr>\n",
       "  <th>Df Residuals:</th>          <td>  1952</td>      <th>  BIC:               </th>          <td>   3950.</td> \n",
       "</tr>\n",
       "<tr>\n",
       "  <th>Df Model:</th>              <td>     7</td>      <th>                     </th>              <td> </td>    \n",
       "</tr>\n",
       "<tr>\n",
       "  <th>Covariance Type:</th>      <td>nonrobust</td>    <th>                     </th>              <td> </td>    \n",
       "</tr>\n",
       "</table>\n",
       "<table class=\"simpletable\">\n",
       "<tr>\n",
       "   <td></td>     <th>coef</th>     <th>std err</th>      <th>t</th>      <th>P>|t|</th>  <th>[0.025</th>    <th>0.975]</th>  \n",
       "</tr>\n",
       "<tr>\n",
       "  <th>x1</th> <td>    0.0240</td> <td>    0.001</td> <td>   16.992</td> <td> 0.000</td> <td>    0.021</td> <td>    0.027</td>\n",
       "</tr>\n",
       "<tr>\n",
       "  <th>x2</th> <td>   -0.5211</td> <td>    0.051</td> <td>  -10.191</td> <td> 0.000</td> <td>   -0.621</td> <td>   -0.421</td>\n",
       "</tr>\n",
       "<tr>\n",
       "  <th>x3</th> <td>   -0.2213</td> <td>    0.019</td> <td>  -11.694</td> <td> 0.000</td> <td>   -0.258</td> <td>   -0.184</td>\n",
       "</tr>\n",
       "<tr>\n",
       "  <th>x4</th> <td>    0.0031</td> <td>    0.000</td> <td>    9.380</td> <td> 0.000</td> <td>    0.002</td> <td>    0.004</td>\n",
       "</tr>\n",
       "<tr>\n",
       "  <th>x5</th> <td>   -0.0002</td> <td> 2.55e-05</td> <td>   -7.734</td> <td> 0.000</td> <td>   -0.000</td> <td>   -0.000</td>\n",
       "</tr>\n",
       "<tr>\n",
       "  <th>x6</th> <td>    2.4719</td> <td>    0.502</td> <td>    4.923</td> <td> 0.000</td> <td>    1.487</td> <td>    3.457</td>\n",
       "</tr>\n",
       "<tr>\n",
       "  <th>x7</th> <td>    0.0261</td> <td>    0.006</td> <td>    4.229</td> <td> 0.000</td> <td>    0.014</td> <td>    0.038</td>\n",
       "</tr>\n",
       "</table>\n",
       "<table class=\"simpletable\">\n",
       "<tr>\n",
       "  <th>Omnibus:</th>       <td>848.999</td> <th>  Durbin-Watson:     </th> <td>   1.996</td> \n",
       "</tr>\n",
       "<tr>\n",
       "  <th>Prob(Omnibus):</th> <td> 0.000</td>  <th>  Jarque-Bera (JB):  </th> <td>19961.356</td>\n",
       "</tr>\n",
       "<tr>\n",
       "  <th>Skew:</th>          <td>-1.492</td>  <th>  Prob(JB):          </th> <td>    0.00</td> \n",
       "</tr>\n",
       "<tr>\n",
       "  <th>Kurtosis:</th>      <td>18.351</td>  <th>  Cond. No.          </th> <td>7.37e+04</td> \n",
       "</tr>\n",
       "</table><br/><br/>Warnings:<br/>[1] Standard Errors assume that the covariance matrix of the errors is correctly specified.<br/>[2] The condition number is large, 7.37e+04. This might indicate that there are<br/>strong multicollinearity or other numerical problems."
      ],
      "text/plain": [
       "<class 'statsmodels.iolib.summary.Summary'>\n",
       "\"\"\"\n",
       "                                 OLS Regression Results                                \n",
       "=======================================================================================\n",
       "Dep. Variable:         target_quality   R-squared (uncentered):                   0.286\n",
       "Model:                            OLS   Adj. R-squared (uncentered):              0.283\n",
       "Method:                 Least Squares   F-statistic:                              111.6\n",
       "Date:                Wed, 13 Apr 2022   Prob (F-statistic):                   8.96e-138\n",
       "Time:                        15:43:13   Log-Likelihood:                         -1948.7\n",
       "No. Observations:                1959   AIC:                                      3911.\n",
       "Df Residuals:                    1952   BIC:                                      3950.\n",
       "Df Model:                           7                                                  \n",
       "Covariance Type:            nonrobust                                                  \n",
       "==============================================================================\n",
       "                 coef    std err          t      P>|t|      [0.025      0.975]\n",
       "------------------------------------------------------------------------------\n",
       "x1             0.0240      0.001     16.992      0.000       0.021       0.027\n",
       "x2            -0.5211      0.051    -10.191      0.000      -0.621      -0.421\n",
       "x3            -0.2213      0.019    -11.694      0.000      -0.258      -0.184\n",
       "x4             0.0031      0.000      9.380      0.000       0.002       0.004\n",
       "x5            -0.0002   2.55e-05     -7.734      0.000      -0.000      -0.000\n",
       "x6             2.4719      0.502      4.923      0.000       1.487       3.457\n",
       "x7             0.0261      0.006      4.229      0.000       0.014       0.038\n",
       "==============================================================================\n",
       "Omnibus:                      848.999   Durbin-Watson:                   1.996\n",
       "Prob(Omnibus):                  0.000   Jarque-Bera (JB):            19961.356\n",
       "Skew:                          -1.492   Prob(JB):                         0.00\n",
       "Kurtosis:                      18.351   Cond. No.                     7.37e+04\n",
       "==============================================================================\n",
       "\n",
       "Warnings:\n",
       "[1] Standard Errors assume that the covariance matrix of the errors is correctly specified.\n",
       "[2] The condition number is large, 7.37e+04. This might indicate that there are\n",
       "strong multicollinearity or other numerical problems.\n",
       "\"\"\""
      ]
     },
     "execution_count": 17,
     "metadata": {},
     "output_type": "execute_result"
    }
   ],
   "source": [
    "# 5. Наименее важна первая переменная x1, так как её значение t-статистики наибольшее по модулю.\n",
    "model = sm.OLS(y_train, X_train[:, best_feats])\n",
    "model.fit().summary()"
   ]
  },
  {
   "cell_type": "markdown",
   "metadata": {},
   "source": [
    "Результаты после добавления MinMaxScaler:\\\n",
    "TRAIN MSE: 0.003595\\\n",
    "VAL MSE: 0.004101\\\n",
    "TEST MSE: 0.003680\\\n",
    "Все значения MSE уменьшились на два порядка. Число вошедших переменных (то есть степеней свободы) теперь равно 23."
   ]
  },
  {
   "cell_type": "code",
   "execution_count": 25,
   "metadata": {},
   "outputs": [
    {
     "data": {
      "text/html": [
       "<table class=\"simpletable\">\n",
       "<caption>OLS Regression Results</caption>\n",
       "<tr>\n",
       "  <th>Dep. Variable:</th>            <td>y</td>        <th>  R-squared:         </th> <td>   0.338</td> \n",
       "</tr>\n",
       "<tr>\n",
       "  <th>Model:</th>                   <td>OLS</td>       <th>  Adj. R-squared:    </th> <td>   0.330</td> \n",
       "</tr>\n",
       "<tr>\n",
       "  <th>Method:</th>             <td>Least Squares</td>  <th>  F-statistic:       </th> <td>   42.90</td> \n",
       "</tr>\n",
       "<tr>\n",
       "  <th>Date:</th>             <td>Wed, 13 Apr 2022</td> <th>  Prob (F-statistic):</th> <td>1.68e-154</td>\n",
       "</tr>\n",
       "<tr>\n",
       "  <th>Time:</th>                 <td>15:57:19</td>     <th>  Log-Likelihood:    </th> <td>  2733.1</td> \n",
       "</tr>\n",
       "<tr>\n",
       "  <th>No. Observations:</th>      <td>  1959</td>      <th>  AIC:               </th> <td>  -5418.</td> \n",
       "</tr>\n",
       "<tr>\n",
       "  <th>Df Residuals:</th>          <td>  1935</td>      <th>  BIC:               </th> <td>  -5284.</td> \n",
       "</tr>\n",
       "<tr>\n",
       "  <th>Df Model:</th>              <td>    23</td>      <th>                     </th>     <td> </td>    \n",
       "</tr>\n",
       "<tr>\n",
       "  <th>Covariance Type:</th>      <td>nonrobust</td>    <th>                     </th>     <td> </td>    \n",
       "</tr>\n",
       "</table>\n",
       "<table class=\"simpletable\">\n",
       "<tr>\n",
       "    <td></td>       <th>coef</th>     <th>std err</th>      <th>t</th>      <th>P>|t|</th>  <th>[0.025</th>    <th>0.975]</th>  \n",
       "</tr>\n",
       "<tr>\n",
       "  <th>x1</th>    <td>   -0.0651</td> <td>    0.083</td> <td>   -0.788</td> <td> 0.431</td> <td>   -0.227</td> <td>    0.097</td>\n",
       "</tr>\n",
       "<tr>\n",
       "  <th>x2</th>    <td>    0.0978</td> <td>    0.110</td> <td>    0.886</td> <td> 0.376</td> <td>   -0.119</td> <td>    0.314</td>\n",
       "</tr>\n",
       "<tr>\n",
       "  <th>const</th> <td>    0.5012</td> <td>    0.018</td> <td>   27.991</td> <td> 0.000</td> <td>    0.466</td> <td>    0.536</td>\n",
       "</tr>\n",
       "<tr>\n",
       "  <th>x3</th>    <td>   -0.0530</td> <td>    0.031</td> <td>   -1.722</td> <td> 0.085</td> <td>   -0.113</td> <td>    0.007</td>\n",
       "</tr>\n",
       "<tr>\n",
       "  <th>x4</th>    <td>   -0.2707</td> <td>    0.051</td> <td>   -5.286</td> <td> 0.000</td> <td>   -0.371</td> <td>   -0.170</td>\n",
       "</tr>\n",
       "<tr>\n",
       "  <th>x5</th>    <td>    0.2500</td> <td>    0.119</td> <td>    2.108</td> <td> 0.035</td> <td>    0.017</td> <td>    0.483</td>\n",
       "</tr>\n",
       "<tr>\n",
       "  <th>x6</th>    <td>    1.0323</td> <td>    0.142</td> <td>    7.271</td> <td> 0.000</td> <td>    0.754</td> <td>    1.311</td>\n",
       "</tr>\n",
       "<tr>\n",
       "  <th>x7</th>    <td>   -1.2165</td> <td>    0.195</td> <td>   -6.228</td> <td> 0.000</td> <td>   -1.600</td> <td>   -0.833</td>\n",
       "</tr>\n",
       "<tr>\n",
       "  <th>x8</th>    <td>    0.0081</td> <td>    0.090</td> <td>    0.090</td> <td> 0.929</td> <td>   -0.169</td> <td>    0.185</td>\n",
       "</tr>\n",
       "<tr>\n",
       "  <th>x9</th>    <td>   -1.5725</td> <td>    0.209</td> <td>   -7.542</td> <td> 0.000</td> <td>   -1.981</td> <td>   -1.164</td>\n",
       "</tr>\n",
       "<tr>\n",
       "  <th>x10</th>   <td>    0.1242</td> <td>    0.092</td> <td>    1.349</td> <td> 0.177</td> <td>   -0.056</td> <td>    0.305</td>\n",
       "</tr>\n",
       "<tr>\n",
       "  <th>x11</th>   <td>    1.5101</td> <td>    0.256</td> <td>    5.896</td> <td> 0.000</td> <td>    1.008</td> <td>    2.012</td>\n",
       "</tr>\n",
       "<tr>\n",
       "  <th>x12</th>   <td>   -0.1004</td> <td>    0.139</td> <td>   -0.721</td> <td> 0.471</td> <td>   -0.373</td> <td>    0.173</td>\n",
       "</tr>\n",
       "<tr>\n",
       "  <th>x13</th>   <td>    0.3205</td> <td>    0.068</td> <td>    4.694</td> <td> 0.000</td> <td>    0.187</td> <td>    0.454</td>\n",
       "</tr>\n",
       "<tr>\n",
       "  <th>x14</th>   <td>   -0.3339</td> <td>    0.112</td> <td>   -2.979</td> <td> 0.003</td> <td>   -0.554</td> <td>   -0.114</td>\n",
       "</tr>\n",
       "<tr>\n",
       "  <th>x15</th>   <td>    2.5031</td> <td>    0.388</td> <td>    6.457</td> <td> 0.000</td> <td>    1.743</td> <td>    3.263</td>\n",
       "</tr>\n",
       "<tr>\n",
       "  <th>x16</th>   <td>    0.1294</td> <td>    0.041</td> <td>    3.166</td> <td> 0.002</td> <td>    0.049</td> <td>    0.210</td>\n",
       "</tr>\n",
       "<tr>\n",
       "  <th>x17</th>   <td>   -0.8928</td> <td>    0.205</td> <td>   -4.360</td> <td> 0.000</td> <td>   -1.294</td> <td>   -0.491</td>\n",
       "</tr>\n",
       "<tr>\n",
       "  <th>x18</th>   <td>    0.5330</td> <td>    0.092</td> <td>    5.807</td> <td> 0.000</td> <td>    0.353</td> <td>    0.713</td>\n",
       "</tr>\n",
       "<tr>\n",
       "  <th>x19</th>   <td>   -1.4628</td> <td>    0.311</td> <td>   -4.709</td> <td> 0.000</td> <td>   -2.072</td> <td>   -0.854</td>\n",
       "</tr>\n",
       "<tr>\n",
       "  <th>x20</th>   <td>   -0.2545</td> <td>    0.078</td> <td>   -3.262</td> <td> 0.001</td> <td>   -0.407</td> <td>   -0.101</td>\n",
       "</tr>\n",
       "<tr>\n",
       "  <th>x21</th>   <td>    0.2316</td> <td>    0.070</td> <td>    3.301</td> <td> 0.001</td> <td>    0.094</td> <td>    0.369</td>\n",
       "</tr>\n",
       "<tr>\n",
       "  <th>x22</th>   <td>   -0.8684</td> <td>    0.273</td> <td>   -3.178</td> <td> 0.002</td> <td>   -1.404</td> <td>   -0.333</td>\n",
       "</tr>\n",
       "<tr>\n",
       "  <th>x23</th>   <td>    0.0804</td> <td>    0.033</td> <td>    2.411</td> <td> 0.016</td> <td>    0.015</td> <td>    0.146</td>\n",
       "</tr>\n",
       "</table>\n",
       "<table class=\"simpletable\">\n",
       "<tr>\n",
       "  <th>Omnibus:</th>       <td>808.553</td> <th>  Durbin-Watson:     </th> <td>   1.994</td> \n",
       "</tr>\n",
       "<tr>\n",
       "  <th>Prob(Omnibus):</th> <td> 0.000</td>  <th>  Jarque-Bera (JB):  </th> <td>17673.489</td>\n",
       "</tr>\n",
       "<tr>\n",
       "  <th>Skew:</th>          <td>-1.413</td>  <th>  Prob(JB):          </th> <td>    0.00</td> \n",
       "</tr>\n",
       "<tr>\n",
       "  <th>Kurtosis:</th>      <td>17.441</td>  <th>  Cond. No.          </th> <td>    452.</td> \n",
       "</tr>\n",
       "</table><br/><br/>Warnings:<br/>[1] Standard Errors assume that the covariance matrix of the errors is correctly specified."
      ],
      "text/plain": [
       "<class 'statsmodels.iolib.summary.Summary'>\n",
       "\"\"\"\n",
       "                            OLS Regression Results                            \n",
       "==============================================================================\n",
       "Dep. Variable:                      y   R-squared:                       0.338\n",
       "Model:                            OLS   Adj. R-squared:                  0.330\n",
       "Method:                 Least Squares   F-statistic:                     42.90\n",
       "Date:                Wed, 13 Apr 2022   Prob (F-statistic):          1.68e-154\n",
       "Time:                        15:57:19   Log-Likelihood:                 2733.1\n",
       "No. Observations:                1959   AIC:                            -5418.\n",
       "Df Residuals:                    1935   BIC:                            -5284.\n",
       "Df Model:                          23                                         \n",
       "Covariance Type:            nonrobust                                         \n",
       "==============================================================================\n",
       "                 coef    std err          t      P>|t|      [0.025      0.975]\n",
       "------------------------------------------------------------------------------\n",
       "x1            -0.0651      0.083     -0.788      0.431      -0.227       0.097\n",
       "x2             0.0978      0.110      0.886      0.376      -0.119       0.314\n",
       "const          0.5012      0.018     27.991      0.000       0.466       0.536\n",
       "x3            -0.0530      0.031     -1.722      0.085      -0.113       0.007\n",
       "x4            -0.2707      0.051     -5.286      0.000      -0.371      -0.170\n",
       "x5             0.2500      0.119      2.108      0.035       0.017       0.483\n",
       "x6             1.0323      0.142      7.271      0.000       0.754       1.311\n",
       "x7            -1.2165      0.195     -6.228      0.000      -1.600      -0.833\n",
       "x8             0.0081      0.090      0.090      0.929      -0.169       0.185\n",
       "x9            -1.5725      0.209     -7.542      0.000      -1.981      -1.164\n",
       "x10            0.1242      0.092      1.349      0.177      -0.056       0.305\n",
       "x11            1.5101      0.256      5.896      0.000       1.008       2.012\n",
       "x12           -0.1004      0.139     -0.721      0.471      -0.373       0.173\n",
       "x13            0.3205      0.068      4.694      0.000       0.187       0.454\n",
       "x14           -0.3339      0.112     -2.979      0.003      -0.554      -0.114\n",
       "x15            2.5031      0.388      6.457      0.000       1.743       3.263\n",
       "x16            0.1294      0.041      3.166      0.002       0.049       0.210\n",
       "x17           -0.8928      0.205     -4.360      0.000      -1.294      -0.491\n",
       "x18            0.5330      0.092      5.807      0.000       0.353       0.713\n",
       "x19           -1.4628      0.311     -4.709      0.000      -2.072      -0.854\n",
       "x20           -0.2545      0.078     -3.262      0.001      -0.407      -0.101\n",
       "x21            0.2316      0.070      3.301      0.001       0.094       0.369\n",
       "x22           -0.8684      0.273     -3.178      0.002      -1.404      -0.333\n",
       "x23            0.0804      0.033      2.411      0.016       0.015       0.146\n",
       "==============================================================================\n",
       "Omnibus:                      808.553   Durbin-Watson:                   1.994\n",
       "Prob(Omnibus):                  0.000   Jarque-Bera (JB):            17673.489\n",
       "Skew:                          -1.413   Prob(JB):                         0.00\n",
       "Kurtosis:                      17.441   Cond. No.                         452.\n",
       "==============================================================================\n",
       "\n",
       "Warnings:\n",
       "[1] Standard Errors assume that the covariance matrix of the errors is correctly specified.\n",
       "\"\"\""
      ]
     },
     "execution_count": 25,
     "metadata": {},
     "output_type": "execute_result"
    }
   ],
   "source": [
    "model = sm.OLS(y_train, X_train[:, best_feats])\n",
    "model.fit().summary()"
   ]
  },
  {
   "cell_type": "markdown",
   "metadata": {
    "id": "azYnRspns-Fg"
   },
   "source": [
    "## Часть 3: PLS/PCR"
   ]
  },
  {
   "cell_type": "code",
   "execution_count": 42,
   "metadata": {
    "colab": {
     "base_uri": "https://localhost:8080/"
    },
    "id": "cx4-rkJGtDEq",
    "outputId": "df1db5e7-92c7-4064-b5b1-6b331e6be177"
   },
   "outputs": [
    {
     "name": "stdout",
     "output_type": "stream",
     "text": [
      "Pipeline\n",
      "TRAIN MSE: 0.477364\n",
      "VAL MSE: 0.496493\n",
      "TEST MSE: 0.471302\n",
      "PLSRegression\n",
      "TRAIN MSE: 0.441024\n",
      "VAL MSE: 0.464150\n",
      "TEST MSE: 0.445547\n"
     ]
    }
   ],
   "source": [
    "from sklearn.decomposition import PCA\n",
    "from sklearn.pipeline import make_pipeline\n",
    "from sklearn.cross_decomposition import PLSRegression\n",
    "from sklearn.model_selection import cross_val_predict\n",
    "\n",
    "X_train, y_train, X_val, y_val, X_test, y_test = data_partition(X, y)\n",
    "\n",
    "# Метод PCR представляем в виде комбинации PCA с последующей линейной регрессией\n",
    "pcr = make_pipeline(PCA(n_components=5), LinearRegression())\n",
    "pcr.fit(X_train, y_train)\n",
    "\n",
    "pls = PLSRegression(n_components=5)\n",
    "pls.fit(X_train, y_train)\n",
    "\n",
    "# MSE\n",
    "score_model_mae(pcr, X_train, y_train, X_val, y_val, X_test, y_test)\n",
    "score_model_mae(pls, X_train, y_train, X_val, y_val, X_test, y_test)"
   ]
  },
  {
   "cell_type": "code",
   "execution_count": 50,
   "metadata": {
    "colab": {
     "base_uri": "https://localhost:8080/",
     "height": 295
    },
    "id": "4f-hRwUyTYVf",
    "outputId": "00756e97-c2ac-4be1-8f9d-9e043040110a"
   },
   "outputs": [
    {
     "data": {
      "image/png": "[encoded data removed]",
      "text/plain": [
       "<Figure size 432x288 with 1 Axes>"
      ]
     },
     "metadata": {
      "needs_background": "light"
     },
     "output_type": "display_data"
    }
   ],
   "source": [
    "# Необходимо определить лучшее количество компонент\n",
    "\n",
    "def optimise_comp_cv(X, y, n_comp):\n",
    "    # Определяем модель (PLS или PCR)\n",
    "    pcr = make_pipeline(PCA(n_components=n_comp), LinearRegression())\n",
    "    # pls = PLSRegression(n_components=n_comp)\n",
    "\n",
    "    # Расчет ошибки на кросс-валидации\n",
    "    y_cv = cross_val_predict(pcr, X, y, cv=10)\n",
    "    mse = mean_squared_error(y, y_cv)\n",
    "    return mse\n",
    "\n",
    "# Визуализация MSE\n",
    "def plot_metrics(vals, ylabel, objective, xticks):\n",
    "    plt.plot(xticks, np.array(vals), '-v')\n",
    "    if objective=='min':\n",
    "        idx = np.argmin(vals)\n",
    "    else:\n",
    "        idx = np.argmax(vals)\n",
    "    plt.plot(xticks[idx], np.array(vals)[idx], 'P', ms=10, mfc='red')\n",
    "\n",
    "    plt.xlabel('Количество компонент PCR')\n",
    "    plt.xticks = xticks\n",
    "    plt.ylabel(ylabel)\n",
    "    plt.title('PCR')\n",
    "    plt.show()\n",
    "\n",
    "\n",
    "# Кросс-валидация проводится на обучающей и валидационной выборках\n",
    "X_tr_val = pd.concat([X_train, X_val])\n",
    "y_tr_val = pd.concat([y_train, y_val])\n",
    "mses = []\n",
    "list_components = list(range(1, X_tr_val.shape[1]+1))\n",
    "for n_comp in list_components:\n",
    "    mse = optimise_comp_cv(X_tr_val, y_tr_val, n_comp)\n",
    "    mses.append(mse)\n",
    "plot_metrics(mses, 'MSE', 'min', list_components)"
   ]
  },
  {
   "cell_type": "code",
   "execution_count": 49,
   "metadata": {},
   "outputs": [
    {
     "data": {
      "text/plain": [
       "0.43912085131131584"
      ]
     },
     "execution_count": 49,
     "metadata": {},
     "output_type": "execute_result"
    }
   ],
   "source": [
    "pls = PLSRegression(n_components=6)\n",
    "pls.fit(X_tr_val, y_tr_val)\n",
    "y_pred = pls.predict(X_test)\n",
    "mean_squared_error(y_test, y_pred)"
   ]
  },
  {
   "cell_type": "code",
   "execution_count": 51,
   "metadata": {},
   "outputs": [
    {
     "data": {
      "text/plain": [
       "0.4382694304803226"
      ]
     },
     "execution_count": 51,
     "metadata": {},
     "output_type": "execute_result"
    }
   ],
   "source": [
    "pcr = make_pipeline(PCA(n_components=11), LinearRegression())\n",
    "pcr.fit(X_tr_val, y_tr_val)\n",
    "y_pred = pcr.predict(X_test)\n",
    "mean_squared_error(y_test, y_pred)"
   ]
  },
  {
   "cell_type": "markdown",
   "metadata": {
    "id": "UP4cqhXmXkD3"
   },
   "source": [
    "### Вопросы к части 3:\n",
    "\n",
    "1. Сколько компонент было выбрано для моделей PCR и PLS?\n",
    "2. Какое значение MSE модели показывают на тестовом наборе?"
   ]
  },
  {
   "cell_type": "markdown",
   "metadata": {},
   "source": [
    "### Ответы к части 3"
   ]
  },
  {
   "cell_type": "markdown",
   "metadata": {},
   "source": [
    "1. Для модели PLS выбрано 6 компонент, для модели PCR - 11."
   ]
  },
  {
   "cell_type": "markdown",
   "metadata": {},
   "source": [
    "2. Для модели PLS значение MSE на тестовом наборе равно примерно 0.439. Для модели PCR - 0.438."
   ]
  },
  {
   "cell_type": "markdown",
   "metadata": {
    "id": "hpWaP0wJSIUe"
   },
   "source": [
    "## Часть 4: LARS + LASSO"
   ]
  },
  {
   "cell_type": "code",
   "execution_count": 52,
   "metadata": {
    "colab": {
     "base_uri": "https://localhost:8080/"
    },
    "id": "lKU6--y-SHl1",
    "outputId": "d47e7094-a70d-4879-8e69-a9269b219208"
   },
   "outputs": [
    {
     "name": "stdout",
     "output_type": "stream",
     "text": [
      "LassoLarsIC\n",
      "TRAIN MSE: 0.440585\n",
      "VAL MSE: 0.456414\n",
      "TEST MSE: 0.438269\n"
     ]
    }
   ],
   "source": [
    "# Документация LARS+LASSO\n",
    "# https://scikit-learn.org/stable/modules/generated/sklearn.linear_model.LassoLarsIC.html#sklearn.linear_model.LassoLarsIC\n",
    "\n",
    "from sklearn.linear_model import LassoLarsIC\n",
    "\n",
    "X_train, y_train, X_val, y_val, X_test, y_test = data_partition(X, y)\n",
    "\n",
    "X_tr_val = pd.concat([X_train, X_val])\n",
    "y_tr_val = pd.concat([y_train, y_val])\n",
    "reg = LassoLarsIC(criterion='aic', normalize=True)\n",
    "reg.fit(X_tr_val, y_tr_val)\n",
    "\n",
    "score_model_mae(reg, X_train, y_train, X_val, y_val, X_test, y_test)"
   ]
  },
  {
   "cell_type": "markdown",
   "metadata": {
    "id": "1XUiDGQOXN0U"
   },
   "source": [
    "### Вопросы к части 4:\n",
    "\n",
    "1. Какое значение MSE модель показывает на тестовом наборе? \n",
    "2. Какая пременная была отобрана на первом шаге? \n",
    "3. Сколько всего переменных было отобрано?\n",
    "4. Если бы вместо критерия отбора модели вашего варианта использовался критерий MSE на валидационном наборе, то было бы отобрано больше или меньше переменных?"
   ]
  },
  {
   "cell_type": "markdown",
   "metadata": {},
   "source": [
    "### Ответы к части 4"
   ]
  },
  {
   "cell_type": "markdown",
   "metadata": {},
   "source": [
    "1. На тестовом наборе значение MSE равно 0.438269."
   ]
  },
  {
   "cell_type": "code",
   "execution_count": 71,
   "metadata": {},
   "outputs": [
    {
     "data": {
      "text/plain": [
       "array([0.        , 0.        , 0.        , 0.        , 0.        ,\n",
       "       0.10976472, 0.        , 0.        , 0.        , 0.        ,\n",
       "       0.        ])"
      ]
     },
     "execution_count": 71,
     "metadata": {},
     "output_type": "execute_result"
    }
   ],
   "source": [
    "reg = LassoLarsIC(criterion='aic', normalize=True, max_iter=1)\n",
    "reg.fit(X_tr_val, y_tr_val)\n",
    "reg.coef_"
   ]
  },
  {
   "cell_type": "markdown",
   "metadata": {},
   "source": [
    "2. На первом шаге отобрана 6-я переменная из 11, то есть 'alcohol'."
   ]
  },
  {
   "cell_type": "code",
   "execution_count": 73,
   "metadata": {
    "scrolled": false
   },
   "outputs": [
    {
     "data": {
      "text/plain": [
       "array([ 5.30345043e-02,  6.43873978e-02, -1.12478903e+02,  3.32400093e-03,\n",
       "       -4.37833770e-04,  1.61318200e-01,  3.86450539e-02,  5.67321205e-01,\n",
       "        3.73576798e-01,  5.73314263e-01, -1.63358770e+00])"
      ]
     },
     "execution_count": 73,
     "metadata": {},
     "output_type": "execute_result"
    }
   ],
   "source": [
    "reg = LassoLarsIC(criterion='aic', normalize=True)\n",
    "reg.fit(X_tr_val, y_tr_val)\n",
    "reg.coef_"
   ]
  },
  {
   "cell_type": "markdown",
   "metadata": {},
   "source": [
    "3. Отобраны все 11 переменных (в массиве reg.coef_ все элементы ненулевые)."
   ]
  },
  {
   "cell_type": "markdown",
   "metadata": {
    "id": "hpWqSD3xCNJQ"
   },
   "source": [
    "## Общие вопросы:\n",
    "\n",
    "1. Зачем при разделении выборкок проводится стратификация по целевой переменной?\n",
    "2. Какая модель показала лучшее значение MSE на тестовой выборке?"
   ]
  }
 ],
 "metadata": {
  "colab": {
   "collapsed_sections": [],
   "name": "Задание3ИАД.ipynb",
   "provenance": []
  },
  "kernelspec": {
   "display_name": "Python 3",
   "language": "python",
   "name": "python3"
  },
  "language_info": {
   "codemirror_mode": {
    "name": "ipython",
    "version": 3
   },
   "file_extension": ".py",
   "mimetype": "text/x-python",
   "name": "python",
   "nbconvert_exporter": "python",
   "pygments_lexer": "ipython3",
   "version": "3.7.6"
  }
 },
 "nbformat": 4,
 "nbformat_minor": 1
}
