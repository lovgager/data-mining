{
 "cells": [
  {
   "cell_type": "markdown",
   "metadata": {
    "id": "BvlBvTDIn371"
   },
   "source": [
    "### Импорт библиотек"
   ]
  },
  {
   "cell_type": "code",
   "execution_count": 1,
   "metadata": {
    "id": "VB-0IuuFnwtp"
   },
   "outputs": [],
   "source": [
    "# Импорт библиотек для проведения расчетов\n",
    "import pandas as pd\n",
    "import numpy as np\n",
    "from sklearn.preprocessing import StandardScaler\n",
    "import sklearn.metrics as metrics"
   ]
  },
  {
   "cell_type": "code",
   "execution_count": 2,
   "metadata": {
    "id": "waEHhJ88dGHf"
   },
   "outputs": [],
   "source": [
    "# Импорт библиотек для визуализации\n",
    "from matplotlib import pyplot as plt\n",
    "import seaborn as sns"
   ]
  },
  {
   "cell_type": "markdown",
   "metadata": {
    "id": "E79qR3s7n_1X"
   },
   "source": [
    "## Загрузка данных"
   ]
  },
  {
   "cell_type": "code",
   "execution_count": 3,
   "metadata": {
    "id": "jtYmPhhDoCQI"
   },
   "outputs": [],
   "source": [
    "# Указываем путь к файлу\n",
    "# При работе с google colab существует 2 варианта загрузки файла:\n",
    "# 1. Через google drive\n",
    "# 2. Через левое меню: \"файлы\" -> \"загрузить в сессионное хранилище\" -> \"скопировать файл\" (при наведении на файл)\n",
    "file_path = 'mnist_small.csv'"
   ]
  },
  {
   "cell_type": "code",
   "execution_count": 4,
   "metadata": {
    "colab": {
     "base_uri": "https://localhost:8080/",
     "height": 236
    },
    "id": "E8LgzOBwoKsT",
    "outputId": "36c430c7-f45e-48d0-94e7-1b458926828e"
   },
   "outputs": [
    {
     "data": {
      "text/html": [
       "<div>\n",
       "<style scoped>\n",
       "    .dataframe tbody tr th:only-of-type {\n",
       "        vertical-align: middle;\n",
       "    }\n",
       "\n",
       "    .dataframe tbody tr th {\n",
       "        vertical-align: top;\n",
       "    }\n",
       "\n",
       "    .dataframe thead th {\n",
       "        text-align: right;\n",
       "    }\n",
       "</style>\n",
       "<table border=\"1\" class=\"dataframe\">\n",
       "  <thead>\n",
       "    <tr style=\"text-align: right;\">\n",
       "      <th></th>\n",
       "      <th>label</th>\n",
       "      <th>1x1</th>\n",
       "      <th>1x2</th>\n",
       "      <th>1x3</th>\n",
       "      <th>1x4</th>\n",
       "      <th>1x5</th>\n",
       "      <th>1x6</th>\n",
       "      <th>1x7</th>\n",
       "      <th>1x8</th>\n",
       "      <th>1x9</th>\n",
       "      <th>...</th>\n",
       "      <th>28x19</th>\n",
       "      <th>28x20</th>\n",
       "      <th>28x21</th>\n",
       "      <th>28x22</th>\n",
       "      <th>28x23</th>\n",
       "      <th>28x24</th>\n",
       "      <th>28x25</th>\n",
       "      <th>28x26</th>\n",
       "      <th>28x27</th>\n",
       "      <th>28x28</th>\n",
       "    </tr>\n",
       "  </thead>\n",
       "  <tbody>\n",
       "    <tr>\n",
       "      <th>0</th>\n",
       "      <td>0</td>\n",
       "      <td>0</td>\n",
       "      <td>0</td>\n",
       "      <td>0</td>\n",
       "      <td>0</td>\n",
       "      <td>0</td>\n",
       "      <td>0</td>\n",
       "      <td>0</td>\n",
       "      <td>0</td>\n",
       "      <td>0</td>\n",
       "      <td>...</td>\n",
       "      <td>0</td>\n",
       "      <td>0</td>\n",
       "      <td>0</td>\n",
       "      <td>0</td>\n",
       "      <td>0</td>\n",
       "      <td>0</td>\n",
       "      <td>0</td>\n",
       "      <td>0</td>\n",
       "      <td>0</td>\n",
       "      <td>0</td>\n",
       "    </tr>\n",
       "    <tr>\n",
       "      <th>1</th>\n",
       "      <td>0</td>\n",
       "      <td>0</td>\n",
       "      <td>0</td>\n",
       "      <td>0</td>\n",
       "      <td>0</td>\n",
       "      <td>0</td>\n",
       "      <td>0</td>\n",
       "      <td>0</td>\n",
       "      <td>0</td>\n",
       "      <td>0</td>\n",
       "      <td>...</td>\n",
       "      <td>0</td>\n",
       "      <td>0</td>\n",
       "      <td>0</td>\n",
       "      <td>0</td>\n",
       "      <td>0</td>\n",
       "      <td>0</td>\n",
       "      <td>0</td>\n",
       "      <td>0</td>\n",
       "      <td>0</td>\n",
       "      <td>0</td>\n",
       "    </tr>\n",
       "    <tr>\n",
       "      <th>2</th>\n",
       "      <td>0</td>\n",
       "      <td>0</td>\n",
       "      <td>0</td>\n",
       "      <td>0</td>\n",
       "      <td>0</td>\n",
       "      <td>0</td>\n",
       "      <td>0</td>\n",
       "      <td>0</td>\n",
       "      <td>0</td>\n",
       "      <td>0</td>\n",
       "      <td>...</td>\n",
       "      <td>0</td>\n",
       "      <td>0</td>\n",
       "      <td>0</td>\n",
       "      <td>0</td>\n",
       "      <td>0</td>\n",
       "      <td>0</td>\n",
       "      <td>0</td>\n",
       "      <td>0</td>\n",
       "      <td>0</td>\n",
       "      <td>0</td>\n",
       "    </tr>\n",
       "    <tr>\n",
       "      <th>3</th>\n",
       "      <td>0</td>\n",
       "      <td>0</td>\n",
       "      <td>0</td>\n",
       "      <td>0</td>\n",
       "      <td>0</td>\n",
       "      <td>0</td>\n",
       "      <td>0</td>\n",
       "      <td>0</td>\n",
       "      <td>0</td>\n",
       "      <td>0</td>\n",
       "      <td>...</td>\n",
       "      <td>0</td>\n",
       "      <td>0</td>\n",
       "      <td>0</td>\n",
       "      <td>0</td>\n",
       "      <td>0</td>\n",
       "      <td>0</td>\n",
       "      <td>0</td>\n",
       "      <td>0</td>\n",
       "      <td>0</td>\n",
       "      <td>0</td>\n",
       "    </tr>\n",
       "    <tr>\n",
       "      <th>4</th>\n",
       "      <td>0</td>\n",
       "      <td>0</td>\n",
       "      <td>0</td>\n",
       "      <td>0</td>\n",
       "      <td>0</td>\n",
       "      <td>0</td>\n",
       "      <td>0</td>\n",
       "      <td>0</td>\n",
       "      <td>0</td>\n",
       "      <td>0</td>\n",
       "      <td>...</td>\n",
       "      <td>0</td>\n",
       "      <td>0</td>\n",
       "      <td>0</td>\n",
       "      <td>0</td>\n",
       "      <td>0</td>\n",
       "      <td>0</td>\n",
       "      <td>0</td>\n",
       "      <td>0</td>\n",
       "      <td>0</td>\n",
       "      <td>0</td>\n",
       "    </tr>\n",
       "  </tbody>\n",
       "</table>\n",
       "<p>5 rows × 785 columns</p>\n",
       "</div>"
      ],
      "text/plain": [
       "   label  1x1  1x2  1x3  1x4  1x5  1x6  1x7  1x8  1x9  ...  28x19  28x20  \\\n",
       "0      0    0    0    0    0    0    0    0    0    0  ...      0      0   \n",
       "1      0    0    0    0    0    0    0    0    0    0  ...      0      0   \n",
       "2      0    0    0    0    0    0    0    0    0    0  ...      0      0   \n",
       "3      0    0    0    0    0    0    0    0    0    0  ...      0      0   \n",
       "4      0    0    0    0    0    0    0    0    0    0  ...      0      0   \n",
       "\n",
       "   28x21  28x22  28x23  28x24  28x25  28x26  28x27  28x28  \n",
       "0      0      0      0      0      0      0      0      0  \n",
       "1      0      0      0      0      0      0      0      0  \n",
       "2      0      0      0      0      0      0      0      0  \n",
       "3      0      0      0      0      0      0      0      0  \n",
       "4      0      0      0      0      0      0      0      0  \n",
       "\n",
       "[5 rows x 785 columns]"
      ]
     },
     "execution_count": 4,
     "metadata": {},
     "output_type": "execute_result"
    }
   ],
   "source": [
    "# Загружаем данные из CSV файла\n",
    "df = pd.read_csv(file_path)\n",
    "# Пример данных\n",
    "df.head()"
   ]
  },
  {
   "cell_type": "markdown",
   "metadata": {
    "id": "kw1nPAhesq5q"
   },
   "source": [
    "## Формирование признакового пространства"
   ]
  },
  {
   "cell_type": "code",
   "execution_count": 5,
   "metadata": {
    "id": "gjd_hshctEQm"
   },
   "outputs": [],
   "source": [
    "# Набор данных содержит подмножество эталонного набора данных рукописных цифр MNIST. \n",
    "# 5923 картинок с изображением нуля и 76 картинок с изображением шестерки. \n",
    "\n",
    "# Сформируем признаковое пространство:\n",
    "# Целевая переменная: label. Описывает метку изображения: 0 (основная выборка) или 6 (аномалия)\n",
    "# Остальные переменные - входные.\n",
    "\n",
    "# Задача - на основе методов обучения без учителя построить одноклассовую модель на основе поиска аномалий, \n",
    "# которая максимально хорошо отфильтрует шестерки (как аномалии) от нулей (как основную выборку). \n",
    "# Признаки картинок описываются их координатами (в названии переменных, например «10x12») и значением яркости точки по этим координатам.\n",
    "\n",
    "y = df[\"label\"]\n",
    "y[y > 0] = 1\n",
    "X = df.loc[:, sorted(list(set(df.columns) - {\"label\"}))]\n",
    "\n",
    "scaler = StandardScaler()\n",
    "X.values[:] = scaler.fit_transform(X)"
   ]
  },
  {
   "cell_type": "code",
   "execution_count": 169,
   "metadata": {
    "id": "7cwRtebEXSF_"
   },
   "outputs": [],
   "source": [
    "# Данный код строит график ROC кривой вашей модели с референсной линией, соответствующей равным ошибкам первого и второго рода. \n",
    "# На пересечении этих графиков и будет точка EER (Equal Error Rate) вашей модели, которую вам нужно будет улучшить. \n",
    "# Обратите внимание на график, отметьте для себя точку пересечения графиков, соответствующую ERR вашей модели.\n",
    "def plot_roc_curve(y_true, y_pred):\n",
    "    fpr, tpr, threshold = metrics.roc_curve(y_true, y_pred)\n",
    "    roc_auc = metrics.auc(fpr, tpr)\n",
    "    eer = fpr[np.argmin(np.abs(1 - tpr - fpr))] # EER - абсцисса (FPR) точки пересечения двух графиков\n",
    "    print(f'EER = {eer}')\n",
    "    plt.title('Receiver Operating Characteristic')\n",
    "    plt.plot(fpr, tpr, 'b', label = 'AUC = %0.3f' % roc_auc)\n",
    "    plt.legend(loc = 'lower right')\n",
    "    plt.plot([0, 1], [1, 0], 'r--')\n",
    "    plt.xlim([0, 1])\n",
    "    plt.ylim([0, 1])\n",
    "    plt.ylabel('True Positive Rate')\n",
    "    plt.xlabel('False Positive Rate')\n",
    "    plt.show()"
   ]
  },
  {
   "cell_type": "markdown",
   "metadata": {
    "id": "xGbRUa93ZJ7e"
   },
   "source": [
    "#### Вашей задачей является настроить целевой алгоритм (SVM для 1го варианта, Cluster для 2го варианта), а также при необходимости преобразовать и отобрать переменные без использования информации об отклике так, чтобы уменьшить ERR получаемой модели."
   ]
  },
  {
   "cell_type": "markdown",
   "metadata": {
    "id": "dJ0oISO9s2TM"
   },
   "source": [
    "## Вариант 2: Clustering"
   ]
  },
  {
   "cell_type": "code",
   "execution_count": 72,
   "metadata": {
    "colab": {
     "base_uri": "https://localhost:8080/",
     "height": 295
    },
    "id": "sNJIRS-TccfM",
    "outputId": "7ca5e7bb-ce6c-4f17-be08-a66b50a68639",
    "scrolled": true
   },
   "outputs": [
    {
     "name": "stdout",
     "output_type": "stream",
     "text": [
      "EER = 0.08509201418200237\n"
     ]
    },
    {
     "data": {
      "image/png": "[encoded data removed]",
      "text/plain": [
       "<Figure size 432x288 with 1 Axes>"
      ]
     },
     "metadata": {
      "needs_background": "light"
     },
     "output_type": "display_data"
    }
   ],
   "source": [
    "from sklearn.cluster import KMeans\n",
    "kmeans = KMeans(n_clusters=4, random_state=0).fit(X)\n",
    "dist_clusters = X.apply(lambda x: min([np.linalg.norm(x - cl) for cl in kmeans.cluster_centers_]), axis = 1)\n",
    "plot_roc_curve(y, dist_clusters)"
   ]
  },
  {
   "cell_type": "markdown",
   "metadata": {},
   "source": [
    "Используем метод главных компонент для снижения размерности исходных данных. Количество компонент будем перебирать от 1 до 10. Для каждого из них применим KMeans и рассчитаем значение EER. Выберем среди них минимальное EER."
   ]
  },
  {
   "cell_type": "code",
   "execution_count": 170,
   "metadata": {},
   "outputs": [],
   "source": [
    "from sklearn.decomposition import PCA"
   ]
  },
  {
   "cell_type": "code",
   "execution_count": 171,
   "metadata": {},
   "outputs": [],
   "source": [
    "eers = []\n",
    "for n in range(1, 11):\n",
    "    pca = PCA(n_components=n)\n",
    "    pca.fit(X)\n",
    "    X_ = pd.DataFrame(pca.transform(X))\n",
    "    kmeans = KMeans(n_clusters=4, random_state=0).fit(X_)\n",
    "    dist_clusters = X_.apply(lambda x: min([np.linalg.norm(x - cl) for cl in kmeans.cluster_centers_]), axis = 1)\n",
    "    fpr, tpr, threshold = metrics.roc_curve(y, dist_clusters)\n",
    "    eer = fpr[np.argmin(np.abs(1 - tpr - fpr))]\n",
    "    eers.append(eer)"
   ]
  },
  {
   "cell_type": "code",
   "execution_count": 172,
   "metadata": {
    "scrolled": false
   },
   "outputs": [
    {
     "name": "stdout",
     "output_type": "stream",
     "text": [
      "EER = 0.06989701164950195\n"
     ]
    },
    {
     "data": {
      "image/png": "[encoded data removed]",
      "text/plain": [
       "<Figure size 432x288 with 1 Axes>"
      ]
     },
     "metadata": {
      "needs_background": "light"
     },
     "output_type": "display_data"
    }
   ],
   "source": [
    "pca = PCA(n_components=np.argmin(eers)+1)\n",
    "pca.fit(X)\n",
    "X_ = pd.DataFrame(pca.transform(X))\n",
    "\n",
    "kmeans = KMeans(n_clusters=4, random_state=0).fit(X_)\n",
    "dist_clusters = X_.apply(lambda x: min([np.linalg.norm(x - cl) for cl in kmeans.cluster_centers_]), axis = 1)\n",
    "plot_roc_curve(y, dist_clusters)"
   ]
  },
  {
   "cell_type": "markdown",
   "metadata": {},
   "source": [
    "Значение EER удалось понизить примерно на 0.015"
   ]
  }
 ],
 "metadata": {
  "colab": {
   "collapsed_sections": [],
   "name": "Задание4ИАД.ipynb",
   "provenance": []
  },
  "kernelspec": {
   "display_name": "Python 3",
   "language": "python",
   "name": "python3"
  },
  "language_info": {
   "codemirror_mode": {
    "name": "ipython",
    "version": 3
   },
   "file_extension": ".py",
   "mimetype": "text/x-python",
   "name": "python",
   "nbconvert_exporter": "python",
   "pygments_lexer": "ipython3",
   "version": "3.7.6"
  }
 },
 "nbformat": 4,
 "nbformat_minor": 1
}
