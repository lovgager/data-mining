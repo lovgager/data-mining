{
 "cells": [
  {
   "cell_type": "markdown",
   "metadata": {
    "id": "BvlBvTDIn371"
   },
   "source": [
    "### Импорт библиотек"
   ]
  },
  {
   "cell_type": "code",
   "execution_count": 1,
   "metadata": {
    "id": "VB-0IuuFnwtp"
   },
   "outputs": [],
   "source": [
    "# Импорт библиотек для проведения расчетов\n",
    "import pandas as pd\n",
    "import numpy as np\n",
    "from sklearn.preprocessing import StandardScaler"
   ]
  },
  {
   "cell_type": "code",
   "execution_count": 2,
   "metadata": {
    "id": "Jxxp7XH0n87Z"
   },
   "outputs": [],
   "source": [
    "# Импорт библиотек для кластеризации\n",
    "# Документация: https://scikit-learn.org/stable/modules/clustering.html\n",
    "from sklearn.cluster import AgglomerativeClustering\n",
    "from sklearn.cluster import KMeans\n",
    "from scipy.cluster.hierarchy import dendrogram"
   ]
  },
  {
   "cell_type": "code",
   "execution_count": 3,
   "metadata": {
    "id": "waEHhJ88dGHf"
   },
   "outputs": [],
   "source": [
    "# Импорт библиотек для визуализации\n",
    "from matplotlib import pyplot as plt\n",
    "import seaborn as sns"
   ]
  },
  {
   "cell_type": "code",
   "execution_count": 4,
   "metadata": {
    "colab": {
     "base_uri": "https://localhost:8080/",
     "height": 339
    },
    "id": "Y_TfgESJWnFM",
    "outputId": "e73d3e6d-3a66-4779-ab1d-4610743d9941"
   },
   "outputs": [],
   "source": [
    "# Библиотека для построения Self-Organizing Maps: sklearn-som\n",
    "# Документация библиотеки: https://sklearn-som.readthedocs.io/en/latest/index.html\n",
    "\n",
    "# ! python3.7 -m pip install sklearn-som\n",
    "from sklearn_som.som import SOM"
   ]
  },
  {
   "cell_type": "markdown",
   "metadata": {
    "id": "E79qR3s7n_1X"
   },
   "source": [
    "## Загрузка данных"
   ]
  },
  {
   "cell_type": "code",
   "execution_count": 5,
   "metadata": {
    "id": "jtYmPhhDoCQI"
   },
   "outputs": [],
   "source": [
    "# Указываем путь к файлу\n",
    "# При работе с google colab существует 2 варианта загрузки файла:\n",
    "# 1. Через google drive\n",
    "# 2. Через левое меню: \"файлы\" -> \"загрузить в сессионное хранилище\" -> \"скопировать файл\" (при наведении на файл)\n",
    "file_path = 'baseball.sas7bdat'"
   ]
  },
  {
   "cell_type": "code",
   "execution_count": 6,
   "metadata": {
    "id": "E8LgzOBwoKsT"
   },
   "outputs": [
    {
     "data": {
      "text/html": [
       "<div>\n",
       "<style scoped>\n",
       "    .dataframe tbody tr th:only-of-type {\n",
       "        vertical-align: middle;\n",
       "    }\n",
       "\n",
       "    .dataframe tbody tr th {\n",
       "        vertical-align: top;\n",
       "    }\n",
       "\n",
       "    .dataframe thead th {\n",
       "        text-align: right;\n",
       "    }\n",
       "</style>\n",
       "<table border=\"1\" class=\"dataframe\">\n",
       "  <thead>\n",
       "    <tr style=\"text-align: right;\">\n",
       "      <th></th>\n",
       "      <th>Name</th>\n",
       "      <th>Team</th>\n",
       "      <th>nAtBat</th>\n",
       "      <th>nHits</th>\n",
       "      <th>nHome</th>\n",
       "      <th>nRuns</th>\n",
       "      <th>nRBI</th>\n",
       "      <th>nBB</th>\n",
       "      <th>YrMajor</th>\n",
       "      <th>CrAtBat</th>\n",
       "      <th>...</th>\n",
       "      <th>CrBB</th>\n",
       "      <th>League</th>\n",
       "      <th>Division</th>\n",
       "      <th>Position</th>\n",
       "      <th>nOuts</th>\n",
       "      <th>nAssts</th>\n",
       "      <th>nError</th>\n",
       "      <th>Salary</th>\n",
       "      <th>Div</th>\n",
       "      <th>logSalary</th>\n",
       "    </tr>\n",
       "  </thead>\n",
       "  <tbody>\n",
       "    <tr>\n",
       "      <th>0</th>\n",
       "      <td>Allanson, Andy</td>\n",
       "      <td>Cleveland</td>\n",
       "      <td>293.0</td>\n",
       "      <td>66.0</td>\n",
       "      <td>1.0</td>\n",
       "      <td>30.0</td>\n",
       "      <td>29.0</td>\n",
       "      <td>14.0</td>\n",
       "      <td>1.0</td>\n",
       "      <td>293.0</td>\n",
       "      <td>...</td>\n",
       "      <td>14.0</td>\n",
       "      <td>American</td>\n",
       "      <td>East</td>\n",
       "      <td>C</td>\n",
       "      <td>446.0</td>\n",
       "      <td>33.0</td>\n",
       "      <td>20.0</td>\n",
       "      <td>NaN</td>\n",
       "      <td>AE</td>\n",
       "      <td>NaN</td>\n",
       "    </tr>\n",
       "    <tr>\n",
       "      <th>1</th>\n",
       "      <td>Ashby, Alan</td>\n",
       "      <td>Houston</td>\n",
       "      <td>315.0</td>\n",
       "      <td>81.0</td>\n",
       "      <td>7.0</td>\n",
       "      <td>24.0</td>\n",
       "      <td>38.0</td>\n",
       "      <td>39.0</td>\n",
       "      <td>14.0</td>\n",
       "      <td>3449.0</td>\n",
       "      <td>...</td>\n",
       "      <td>375.0</td>\n",
       "      <td>National</td>\n",
       "      <td>West</td>\n",
       "      <td>C</td>\n",
       "      <td>632.0</td>\n",
       "      <td>43.0</td>\n",
       "      <td>10.0</td>\n",
       "      <td>475.0</td>\n",
       "      <td>NW</td>\n",
       "      <td>6.163315</td>\n",
       "    </tr>\n",
       "    <tr>\n",
       "      <th>2</th>\n",
       "      <td>Davis, Alan</td>\n",
       "      <td>Seattle</td>\n",
       "      <td>479.0</td>\n",
       "      <td>130.0</td>\n",
       "      <td>18.0</td>\n",
       "      <td>66.0</td>\n",
       "      <td>72.0</td>\n",
       "      <td>76.0</td>\n",
       "      <td>3.0</td>\n",
       "      <td>1624.0</td>\n",
       "      <td>...</td>\n",
       "      <td>263.0</td>\n",
       "      <td>American</td>\n",
       "      <td>West</td>\n",
       "      <td>1B</td>\n",
       "      <td>880.0</td>\n",
       "      <td>82.0</td>\n",
       "      <td>14.0</td>\n",
       "      <td>480.0</td>\n",
       "      <td>AW</td>\n",
       "      <td>6.173786</td>\n",
       "    </tr>\n",
       "    <tr>\n",
       "      <th>3</th>\n",
       "      <td>Dawson, Andre</td>\n",
       "      <td>Montreal</td>\n",
       "      <td>496.0</td>\n",
       "      <td>141.0</td>\n",
       "      <td>20.0</td>\n",
       "      <td>65.0</td>\n",
       "      <td>78.0</td>\n",
       "      <td>37.0</td>\n",
       "      <td>11.0</td>\n",
       "      <td>5628.0</td>\n",
       "      <td>...</td>\n",
       "      <td>354.0</td>\n",
       "      <td>National</td>\n",
       "      <td>East</td>\n",
       "      <td>RF</td>\n",
       "      <td>200.0</td>\n",
       "      <td>11.0</td>\n",
       "      <td>3.0</td>\n",
       "      <td>500.0</td>\n",
       "      <td>NE</td>\n",
       "      <td>6.214608</td>\n",
       "    </tr>\n",
       "    <tr>\n",
       "      <th>4</th>\n",
       "      <td>Galarraga, Andres</td>\n",
       "      <td>Montreal</td>\n",
       "      <td>321.0</td>\n",
       "      <td>87.0</td>\n",
       "      <td>10.0</td>\n",
       "      <td>39.0</td>\n",
       "      <td>42.0</td>\n",
       "      <td>30.0</td>\n",
       "      <td>2.0</td>\n",
       "      <td>396.0</td>\n",
       "      <td>...</td>\n",
       "      <td>33.0</td>\n",
       "      <td>National</td>\n",
       "      <td>East</td>\n",
       "      <td>1B</td>\n",
       "      <td>805.0</td>\n",
       "      <td>40.0</td>\n",
       "      <td>4.0</td>\n",
       "      <td>91.5</td>\n",
       "      <td>NE</td>\n",
       "      <td>4.516339</td>\n",
       "    </tr>\n",
       "  </tbody>\n",
       "</table>\n",
       "<p>5 rows × 24 columns</p>\n",
       "</div>"
      ],
      "text/plain": [
       "                Name       Team  nAtBat  nHits  nHome  nRuns  nRBI   nBB  \\\n",
       "0     Allanson, Andy  Cleveland   293.0   66.0    1.0   30.0  29.0  14.0   \n",
       "1        Ashby, Alan    Houston   315.0   81.0    7.0   24.0  38.0  39.0   \n",
       "2        Davis, Alan    Seattle   479.0  130.0   18.0   66.0  72.0  76.0   \n",
       "3      Dawson, Andre   Montreal   496.0  141.0   20.0   65.0  78.0  37.0   \n",
       "4  Galarraga, Andres   Montreal   321.0   87.0   10.0   39.0  42.0  30.0   \n",
       "\n",
       "   YrMajor  CrAtBat  ...   CrBB    League  Division  Position  nOuts nAssts  \\\n",
       "0      1.0    293.0  ...   14.0  American      East         C  446.0   33.0   \n",
       "1     14.0   3449.0  ...  375.0  National      West         C  632.0   43.0   \n",
       "2      3.0   1624.0  ...  263.0  American      West        1B  880.0   82.0   \n",
       "3     11.0   5628.0  ...  354.0  National      East        RF  200.0   11.0   \n",
       "4      2.0    396.0  ...   33.0  National      East        1B  805.0   40.0   \n",
       "\n",
       "  nError Salary  Div  logSalary  \n",
       "0   20.0    NaN   AE        NaN  \n",
       "1   10.0  475.0   NW   6.163315  \n",
       "2   14.0  480.0   AW   6.173786  \n",
       "3    3.0  500.0   NE   6.214608  \n",
       "4    4.0   91.5   NE   4.516339  \n",
       "\n",
       "[5 rows x 24 columns]"
      ]
     },
     "execution_count": 6,
     "metadata": {},
     "output_type": "execute_result"
    }
   ],
   "source": [
    "# Загружаем данные из SAS файла\n",
    "df = pd.read_sas(file_path, encoding='latin-1')\n",
    "# Пример данных\n",
    "df.head()"
   ]
  },
  {
   "cell_type": "markdown",
   "metadata": {
    "id": "qCivzh6gdP9O"
   },
   "source": [
    "## Формирование признакового пространства"
   ]
  },
  {
   "cell_type": "code",
   "execution_count": 7,
   "metadata": {
    "id": "G2gwVV3roqCP"
   },
   "outputs": [],
   "source": [
    "# Сформируем признаковое пространство:\n",
    "# 1. YrMajor - число лет в лиге\n",
    "# 2. Признаки с префиксом \"n\" - результаты 1986 года \n",
    "# 3. Признаки с префиксом \"сr\"  - результаты за всю карьеру\n",
    "\n",
    "results_1986 = [c for c in df.columns if c[0] == \"n\"]\n",
    "results_all = [c for c in df.columns if c[:2] == \"Cr\"]\n",
    "sign_features = ['YrMajor'] + results_1986 + results_all"
   ]
  },
  {
   "cell_type": "code",
   "execution_count": 9,
   "metadata": {
    "id": "ASBOvjli0_pY"
   },
   "outputs": [
    {
     "data": {
      "text/html": [
       "<div>\n",
       "<style scoped>\n",
       "    .dataframe tbody tr th:only-of-type {\n",
       "        vertical-align: middle;\n",
       "    }\n",
       "\n",
       "    .dataframe tbody tr th {\n",
       "        vertical-align: top;\n",
       "    }\n",
       "\n",
       "    .dataframe thead th {\n",
       "        text-align: right;\n",
       "    }\n",
       "</style>\n",
       "<table border=\"1\" class=\"dataframe\">\n",
       "  <thead>\n",
       "    <tr style=\"text-align: right;\">\n",
       "      <th></th>\n",
       "      <th>YrMajor</th>\n",
       "      <th>nAtBat</th>\n",
       "      <th>nHits</th>\n",
       "      <th>nHome</th>\n",
       "      <th>nRuns</th>\n",
       "      <th>nRBI</th>\n",
       "      <th>nBB</th>\n",
       "      <th>nOuts</th>\n",
       "      <th>nAssts</th>\n",
       "      <th>nError</th>\n",
       "      <th>CrAtBat</th>\n",
       "      <th>CrHits</th>\n",
       "      <th>CrHome</th>\n",
       "      <th>CrRuns</th>\n",
       "      <th>CrRbi</th>\n",
       "      <th>CrBB</th>\n",
       "    </tr>\n",
       "  </thead>\n",
       "  <tbody>\n",
       "    <tr>\n",
       "      <th>0</th>\n",
       "      <td>-1.346261</td>\n",
       "      <td>-0.677078</td>\n",
       "      <td>-0.847808</td>\n",
       "      <td>-1.163177</td>\n",
       "      <td>-0.888041</td>\n",
       "      <td>-0.800135</td>\n",
       "      <td>-1.227600</td>\n",
       "      <td>0.560295</td>\n",
       "      <td>-0.540956</td>\n",
       "      <td>1.880899</td>\n",
       "      <td>-1.062463</td>\n",
       "      <td>-1.042700</td>\n",
       "      <td>-0.812788</td>\n",
       "      <td>-1.024958</td>\n",
       "      <td>-0.941912</td>\n",
       "      <td>-0.949467</td>\n",
       "    </tr>\n",
       "    <tr>\n",
       "      <th>1</th>\n",
       "      <td>1.273659</td>\n",
       "      <td>-0.523632</td>\n",
       "      <td>-0.507755</td>\n",
       "      <td>-0.472351</td>\n",
       "      <td>-1.127864</td>\n",
       "      <td>-0.446661</td>\n",
       "      <td>-0.040694</td>\n",
       "      <td>1.224058</td>\n",
       "      <td>-0.467771</td>\n",
       "      <td>0.308192</td>\n",
       "      <td>0.295038</td>\n",
       "      <td>0.133554</td>\n",
       "      <td>-0.056603</td>\n",
       "      <td>-0.158635</td>\n",
       "      <td>0.196252</td>\n",
       "      <td>0.371909</td>\n",
       "    </tr>\n",
       "    <tr>\n",
       "      <th>2</th>\n",
       "      <td>-0.943196</td>\n",
       "      <td>0.620240</td>\n",
       "      <td>0.603083</td>\n",
       "      <td>0.794164</td>\n",
       "      <td>0.550898</td>\n",
       "      <td>0.888687</td>\n",
       "      <td>1.715928</td>\n",
       "      <td>2.109075</td>\n",
       "      <td>-0.182349</td>\n",
       "      <td>0.937275</td>\n",
       "      <td>-0.489955</td>\n",
       "      <td>-0.444631</td>\n",
       "      <td>-0.123325</td>\n",
       "      <td>-0.447409</td>\n",
       "      <td>-0.241276</td>\n",
       "      <td>-0.038047</td>\n",
       "    </tr>\n",
       "    <tr>\n",
       "      <th>3</th>\n",
       "      <td>0.669062</td>\n",
       "      <td>0.738812</td>\n",
       "      <td>0.852454</td>\n",
       "      <td>1.024440</td>\n",
       "      <td>0.510928</td>\n",
       "      <td>1.124336</td>\n",
       "      <td>-0.135646</td>\n",
       "      <td>-0.317585</td>\n",
       "      <td>-0.701964</td>\n",
       "      <td>-0.792703</td>\n",
       "      <td>1.232299</td>\n",
       "      <td>1.265450</td>\n",
       "      <td>1.678172</td>\n",
       "      <td>1.350733</td>\n",
       "      <td>1.449712</td>\n",
       "      <td>0.295042</td>\n",
       "    </tr>\n",
       "    <tr>\n",
       "      <th>4</th>\n",
       "      <td>-1.144729</td>\n",
       "      <td>-0.481783</td>\n",
       "      <td>-0.371734</td>\n",
       "      <td>-0.126938</td>\n",
       "      <td>-0.528306</td>\n",
       "      <td>-0.289561</td>\n",
       "      <td>-0.467980</td>\n",
       "      <td>1.841429</td>\n",
       "      <td>-0.489727</td>\n",
       "      <td>-0.635432</td>\n",
       "      <td>-1.018159</td>\n",
       "      <td>-0.989165</td>\n",
       "      <td>-0.690464</td>\n",
       "      <td>-0.971371</td>\n",
       "      <td>-0.891656</td>\n",
       "      <td>-0.879920</td>\n",
       "    </tr>\n",
       "  </tbody>\n",
       "</table>\n",
       "</div>"
      ],
      "text/plain": [
       "    YrMajor    nAtBat     nHits     nHome     nRuns      nRBI       nBB  \\\n",
       "0 -1.346261 -0.677078 -0.847808 -1.163177 -0.888041 -0.800135 -1.227600   \n",
       "1  1.273659 -0.523632 -0.507755 -0.472351 -1.127864 -0.446661 -0.040694   \n",
       "2 -0.943196  0.620240  0.603083  0.794164  0.550898  0.888687  1.715928   \n",
       "3  0.669062  0.738812  0.852454  1.024440  0.510928  1.124336 -0.135646   \n",
       "4 -1.144729 -0.481783 -0.371734 -0.126938 -0.528306 -0.289561 -0.467980   \n",
       "\n",
       "      nOuts    nAssts    nError   CrAtBat    CrHits    CrHome    CrRuns  \\\n",
       "0  0.560295 -0.540956  1.880899 -1.062463 -1.042700 -0.812788 -1.024958   \n",
       "1  1.224058 -0.467771  0.308192  0.295038  0.133554 -0.056603 -0.158635   \n",
       "2  2.109075 -0.182349  0.937275 -0.489955 -0.444631 -0.123325 -0.447409   \n",
       "3 -0.317585 -0.701964 -0.792703  1.232299  1.265450  1.678172  1.350733   \n",
       "4  1.841429 -0.489727 -0.635432 -1.018159 -0.989165 -0.690464 -0.971371   \n",
       "\n",
       "      CrRbi      CrBB  \n",
       "0 -0.941912 -0.949467  \n",
       "1  0.196252  0.371909  \n",
       "2 -0.241276 -0.038047  \n",
       "3  1.449712  0.295042  \n",
       "4 -0.891656 -0.879920  "
      ]
     },
     "execution_count": 9,
     "metadata": {},
     "output_type": "execute_result"
    }
   ],
   "source": [
    "# Стандартизация признаков\n",
    "scaler = StandardScaler()\n",
    "X = df.loc[:, sign_features]\n",
    "scaler.fit(X)\n",
    "X = pd.DataFrame(scaler.transform(X), columns=X.columns)\n",
    "X.head()"
   ]
  },
  {
   "cell_type": "markdown",
   "metadata": {
    "id": "19aqZ0e8om5w"
   },
   "source": [
    "## Часть 1: Иерархическая кластеризация и K-means"
   ]
  },
  {
   "cell_type": "code",
   "execution_count": 10,
   "metadata": {
    "id": "JtRnhN77t9F7"
   },
   "outputs": [],
   "source": [
    "# Обучим модель Иерархической кластеризации\n",
    "clustering = AgglomerativeClustering(compute_distances = True, distance_threshold = 0.0, n_clusters = None).fit(X)"
   ]
  },
  {
   "cell_type": "code",
   "execution_count": 11,
   "metadata": {
    "id": "A8mtYwZmX0Pb"
   },
   "outputs": [
    {
     "data": {
      "image/png": "[encoded data removed]",
      "text/plain": [
       "<Figure size 864x720 with 1 Axes>"
      ]
     },
     "metadata": {
      "needs_background": "light"
     },
     "output_type": "display_data"
    }
   ],
   "source": [
    "# Визуализация дендрограммы\n",
    "def plot_dendrogram(model, **kwargs):\n",
    "    # Создаем матрицу связности\n",
    "\n",
    "    # Рассчитываем количество наблюдений в каждой вершине\n",
    "    counts = np.zeros(model.children_.shape[0])\n",
    "    n_samples = len(model.labels_)\n",
    "    for i, merge in enumerate(model.children_):\n",
    "        current_count = 0\n",
    "        for child_idx in merge:\n",
    "            if child_idx < n_samples:\n",
    "                current_count += 1  # Лист\n",
    "            else:\n",
    "                current_count += counts[child_idx - n_samples]\n",
    "        counts[i] = current_count\n",
    "\n",
    "    linkage_matrix = np.column_stack(\n",
    "        [model.children_, model.distances_, counts]\n",
    "    ).astype(float)\n",
    "\n",
    "    fig, axes = plt.subplots(1, 1, figsize=(12, 10))\n",
    "    dendrogram(linkage_matrix, **kwargs, show_leaf_counts = True)\n",
    "\n",
    "plot_dendrogram(clustering, truncate_mode=\"level\", p=3)"
   ]
  },
  {
   "cell_type": "code",
   "execution_count": 12,
   "metadata": {
    "id": "JSQAs4FAu0ir"
   },
   "outputs": [
    {
     "data": {
      "image/png": "[encoded data removed]",
      "text/plain": [
       "<Figure size 432x288 with 1 Axes>"
      ]
     },
     "metadata": {
      "needs_background": "light"
     },
     "output_type": "display_data"
    }
   ],
   "source": [
    "# Выберем число кластеров на основе псевдо критерия Фишера\n",
    "\n",
    "def sum_dist_to_center(X):\n",
    "    center = np.mean(X, axis = 0)\n",
    "    return ((X - center)**2).values.sum()\n",
    "\n",
    "def choose_num_clusters(X, max_clust = 30):\n",
    "    N = X.shape[0]\n",
    "    Q = sum_dist_to_center(X)\n",
    "    pseudo_f = np.array([])\n",
    "    for G in range(2, max_clust):\n",
    "        clustering = AgglomerativeClustering(compute_distances = True, n_clusters = G).fit(X)\n",
    "        W = 0\n",
    "        for l in range(G):\n",
    "            elems = X[clustering.labels_ == l]\n",
    "            W += sum_dist_to_center(elems)\n",
    "        fisher_stat = ((Q - W)/(G - 1))/(W/(N - G))\n",
    "        pseudo_f = np.append(pseudo_f, fisher_stat)\n",
    "    plt.plot(range(2, max_clust), pseudo_f)\n",
    "    return np.argmax(pseudo_f)+2\n",
    "\n",
    "k = choose_num_clusters(X)\n",
    "clustering = KMeans(n_clusters=k, random_state=0).fit(X)\n",
    "label = clustering.labels_"
   ]
  },
  {
   "cell_type": "markdown",
   "metadata": {
    "id": "xGNanz111FaC"
   },
   "source": [
    "### Ответить на следующие вопросы:\n",
    "\n",
    "#### 1.   Сколько кластеров было выбрано на основе псевдо критерия Фишера?\n",
    "#### 2.   Используя информацию из графика, ответьте на вопросы:\n",
    "> 1.   Каково значение критерия для выбранного числа кластеров?\n",
    "> 2.   А для числа кластеров на один больше и на один меньше?\n",
    "\n"
   ]
  },
  {
   "cell_type": "code",
   "execution_count": 13,
   "metadata": {},
   "outputs": [
    {
     "data": {
      "text/plain": [
       "3"
      ]
     },
     "execution_count": 13,
     "metadata": {},
     "output_type": "execute_result"
    }
   ],
   "source": [
    "# Ответ на вопрос 1 - число кластеров\n",
    "k"
   ]
  },
  {
   "cell_type": "code",
   "execution_count": 14,
   "metadata": {},
   "outputs": [],
   "source": [
    "# Немного изменим функцию choose_num_clusters\n",
    "\n",
    "def choose_num_clusters2(X, max_clust = 30):\n",
    "    N = X.shape[0]\n",
    "    Q = sum_dist_to_center(X)\n",
    "    pseudo_f = np.array([])\n",
    "    for G in range(2, max_clust):\n",
    "        clustering = AgglomerativeClustering(compute_distances = True, n_clusters = G).fit(X)\n",
    "        W = 0\n",
    "        for l in range(G):\n",
    "            elems = X[clustering.labels_ == l]\n",
    "            W += sum_dist_to_center(elems)\n",
    "        fisher_stat = ((Q - W)/(G - 1))/(W/(N - G))\n",
    "        pseudo_f = np.append(pseudo_f, fisher_stat)\n",
    "    return pseudo_f, np.argmax(pseudo_f)+2\n",
    "\n",
    "pseudo_f, k  = choose_num_clusters2(X)"
   ]
  },
  {
   "cell_type": "code",
   "execution_count": 15,
   "metadata": {},
   "outputs": [
    {
     "data": {
      "text/plain": [
       "121.61624755184556"
      ]
     },
     "execution_count": 15,
     "metadata": {},
     "output_type": "execute_result"
    }
   ],
   "source": [
    "# Ответ на вопрос 2.1 - максимальное значение критерия\n",
    "np.max(pseudo_f)"
   ]
  },
  {
   "cell_type": "code",
   "execution_count": 16,
   "metadata": {},
   "outputs": [
    {
     "data": {
      "text/plain": [
       "121.61624755184556"
      ]
     },
     "execution_count": 16,
     "metadata": {},
     "output_type": "execute_result"
    }
   ],
   "source": [
    "# это всё равно что\n",
    "pseudo_f[k - 2]\n",
    "# вычитаем 2, так как нумерация кластеров в массиве начинается с 2"
   ]
  },
  {
   "cell_type": "code",
   "execution_count": 17,
   "metadata": {},
   "outputs": [
    {
     "data": {
      "text/plain": [
       "(106.4084884247154, 119.5692901945296)"
      ]
     },
     "execution_count": 17,
     "metadata": {},
     "output_type": "execute_result"
    }
   ],
   "source": [
    "# Ответ на вопрос 2.2 - значения критерия для 4 и 2 кластеров\n",
    "pseudo_f[k - 1], pseudo_f[k - 3]"
   ]
  },
  {
   "cell_type": "markdown",
   "metadata": {
    "id": "RfBkKoFpM20W"
   },
   "source": [
    "## Часть 2: SOM"
   ]
  },
  {
   "cell_type": "code",
   "execution_count": 18,
   "metadata": {
    "id": "9P6SFu1WNcRv"
   },
   "outputs": [],
   "source": [
    "# Обучаем Self-Organizing Map с размером сетки 3 на 1\n",
    "baseball_som = SOM(m=3, n=1, dim = X.shape[1])\n",
    "baseball_som.fit(X.to_numpy())\n",
    "\n",
    "labels = baseball_som.predict(X.to_numpy())"
   ]
  },
  {
   "cell_type": "code",
   "execution_count": 19,
   "metadata": {
    "id": "ZLzqFb1n2PdE"
   },
   "outputs": [
    {
     "data": {
      "text/plain": [
       "<matplotlib.axes._subplots.AxesSubplot at 0x228a6ddca48>"
      ]
     },
     "execution_count": 19,
     "metadata": {},
     "output_type": "execute_result"
    },
    {
     "data": {
      "image/png": "[encoded data removed]",
      "text/plain": [
       "<Figure size 432x288 with 1 Axes>"
      ]
     },
     "metadata": {
      "needs_background": "light"
     },
     "output_type": "display_data"
    }
   ],
   "source": [
    "## Дополнительно #\n",
    "## Значения признаков по кластерам удобно визуализировать с помощью barplot\n",
    "## Нужное раскомментировать\n",
    "\n",
    "## 1. В терминах matplotlib \n",
    "# plt.bar(labels, X[\"CrBB\"])\n",
    "# plt.ylabel(\"CrBB\")\n",
    "# plt.xlabel(\"cluster\")\n",
    "\n",
    "## 2. В терминах seaborn (+ доверительные интервалы)\n",
    "sns.barplot(x = labels, y = X[\"CrBB\"], capsize = 0.1)"
   ]
  },
  {
   "cell_type": "markdown",
   "metadata": {
    "id": "Nv_XaTZV2Cxr"
   },
   "source": [
    "## Часть 3: Анализ кластеров\n",
    "\n",
    "## Построить модели:\n",
    "> Для части 1: выбор количества кластеров на основе иерархической кластеризации с последующим обучение k-means\n",
    "\n",
    "> Для части 2: обучение SOM с размером сетки 2 на 2 \n",
    "\n",
    "## Ответить на следующие вопросы для каждой построенной модели\n",
    "> Вариант I: Какой кластер содержит самых опытных игроков (переменная YrMajor)? \n",
    "> Вариант II: Какой кластер содержит самых успешных по хитам в 1986 году игроков (переменная nHits)?\n",
    "> 1.\tСколько человек попало в этот кластер? \n",
    "> 2.    Как зовут самого типичного игрока в кластере вашего варианта (у него должно быть минимальное расстояние до центра вашего кластера)?"
   ]
  },
  {
   "cell_type": "code",
   "execution_count": 22,
   "metadata": {
    "scrolled": true
   },
   "outputs": [
    {
     "data": {
      "text/plain": [
       "kmeans_label\n",
       "0    0.061666\n",
       "1    0.919676\n",
       "2   -0.791051\n",
       "Name: nHits, dtype: float64"
      ]
     },
     "execution_count": 22,
     "metadata": {},
     "output_type": "execute_result"
    }
   ],
   "source": [
    "# Первая модель уже построена с тремя кластерами (в переменнаой clustering)\n",
    "# Добавим в таблицу колонку с номерами кластеров\n",
    "XX = X.copy()\n",
    "XX['kmeans_label'] = clustering.predict(X)\n",
    "# Выясним, в какие кластеры попали самые успешные игроки по nHits (сравниваем средние значения)\n",
    "XX.groupby('kmeans_label').aggregate(np.mean).nHits\n",
    "# Получаем кластер с номером 1 (у него максимальное среднее значение nHits)"
   ]
  },
  {
   "cell_type": "code",
   "execution_count": 25,
   "metadata": {},
   "outputs": [
    {
     "data": {
      "text/plain": [
       "115"
      ]
     },
     "execution_count": 25,
     "metadata": {},
     "output_type": "execute_result"
    }
   ],
   "source": [
    "# Ответ на вопрос 1 - кол-во человек в кластере 1 для модели kmeans\n",
    "sum(XX.kmeans_label == 1)"
   ]
  },
  {
   "cell_type": "code",
   "execution_count": 27,
   "metadata": {},
   "outputs": [
    {
     "data": {
      "text/plain": [
       "YrMajor   -0.137067\n",
       "nAtBat     0.689988\n",
       "nHits      0.625753\n",
       "nHome      0.909302\n",
       "nRuns      0.990574\n",
       "nRBI       0.221013\n",
       "nBB       -0.278075\n",
       "nOuts      0.074963\n",
       "nAssts    -0.716601\n",
       "nError     0.150921\n",
       "CrAtBat   -0.306288\n",
       "CrHits    -0.303909\n",
       "CrHome    -0.134446\n",
       "CrRuns    -0.221153\n",
       "CrRbi     -0.250145\n",
       "CrBB      -0.440682\n",
       "Name: 204, dtype: float64"
      ]
     },
     "execution_count": 27,
     "metadata": {},
     "output_type": "execute_result"
    }
   ],
   "source": [
    "# Выберем элементы из кластера 1 и найдём его центроид\n",
    "X1 = X[XX.kmeans_label == 1]\n",
    "centroid = clustering.cluster_centers_[1]\n",
    "# Находим индекс элемента с минимальным расстоянием до центроида\n",
    "i = np.linalg.norm(X1 - centroid, axis=1).argmin()\n",
    "# Выводим этот элемент\n",
    "X1.iloc[i]"
   ]
  },
  {
   "cell_type": "code",
   "execution_count": 28,
   "metadata": {
    "scrolled": true
   },
   "outputs": [
    {
     "data": {
      "text/plain": [
       "'Davis, Mike'"
      ]
     },
     "execution_count": 28,
     "metadata": {},
     "output_type": "execute_result"
    }
   ],
   "source": [
    "# Ответ на вопрос 2 - имя типичного представителя кластера 1 для модели kmeans\n",
    "df.iloc[X1.iloc[i].name].Name"
   ]
  },
  {
   "cell_type": "code",
   "execution_count": null,
   "metadata": {},
   "outputs": [],
   "source": []
  },
  {
   "cell_type": "code",
   "execution_count": 37,
   "metadata": {},
   "outputs": [],
   "source": [
    "# Построим модель SOM с размером сетки 2 на 2\n",
    "baseball_som = SOM(m=2, n=2, dim = X.shape[1])\n",
    "baseball_som.fit(X.to_numpy())\n",
    "labels = baseball_som.predict(X.to_numpy())"
   ]
  },
  {
   "cell_type": "code",
   "execution_count": 38,
   "metadata": {},
   "outputs": [
    {
     "data": {
      "text/plain": [
       "3"
      ]
     },
     "execution_count": 38,
     "metadata": {},
     "output_type": "execute_result"
    }
   ],
   "source": [
    "# Далее всё аналогично\n",
    "XX['SOM_label'] = labels\n",
    "value = XX.groupby('SOM_label').aggregate(np.mean).nHits.argmax()\n",
    "# Получаем номер кластера с самыми успешными игроками по nHits\n",
    "value"
   ]
  },
  {
   "cell_type": "code",
   "execution_count": 39,
   "metadata": {},
   "outputs": [
    {
     "data": {
      "text/plain": [
       "81"
      ]
     },
     "execution_count": 39,
     "metadata": {},
     "output_type": "execute_result"
    }
   ],
   "source": [
    "# Ответ на вопрос 1 - кол-во человек в нашем кластере для модели SOM\n",
    "sum(XX.SOM_label == value)"
   ]
  },
  {
   "cell_type": "code",
   "execution_count": 40,
   "metadata": {
    "scrolled": false
   },
   "outputs": [
    {
     "data": {
      "text/plain": [
       "YrMajor   -0.338599\n",
       "nAtBat    -0.014470\n",
       "nHits     -0.009012\n",
       "nHome      0.448751\n",
       "nRuns      0.271105\n",
       "nRBI      -0.093186\n",
       "nBB       -0.040694\n",
       "nOuts     -0.381820\n",
       "nAssts    -0.716601\n",
       "nError    -0.635432\n",
       "CrAtBat   -0.253382\n",
       "CrHits    -0.294731\n",
       "CrHome     0.065721\n",
       "CrRuns    -0.265809\n",
       "CrRbi     -0.217626\n",
       "CrBB      -0.319892\n",
       "Name: 78, dtype: float64"
      ]
     },
     "execution_count": 40,
     "metadata": {},
     "output_type": "execute_result"
    }
   ],
   "source": [
    "X_ = X[XX.SOM_label == value]\n",
    "centroid = baseball_som.cluster_centers_.reshape(4, 16)[value]\n",
    "i = np.linalg.norm(X_ - centroid, axis=1).argmin()\n",
    "X_.iloc[i]"
   ]
  },
  {
   "cell_type": "code",
   "execution_count": 41,
   "metadata": {},
   "outputs": [
    {
     "data": {
      "text/plain": [
       "'Henderson, Dave'"
      ]
     },
     "execution_count": 41,
     "metadata": {},
     "output_type": "execute_result"
    }
   ],
   "source": [
    "# Ответ на вопрос 2 - имя типичного представителя кластера 1 для модели SOM\n",
    "df.iloc[X_.iloc[i].name].Name"
   ]
  }
 ],
 "metadata": {
  "colab": {
   "collapsed_sections": [],
   "name": "Задание2ИАД.ipynb",
   "provenance": []
  },
  "kernelspec": {
   "display_name": "Python 3",
   "language": "python",
   "name": "python3"
  },
  "language_info": {
   "codemirror_mode": {
    "name": "ipython",
    "version": 3
   },
   "file_extension": ".py",
   "mimetype": "text/x-python",
   "name": "python",
   "nbconvert_exporter": "python",
   "pygments_lexer": "ipython3",
   "version": "3.7.6"
  }
 },
 "nbformat": 4,
 "nbformat_minor": 1
}
